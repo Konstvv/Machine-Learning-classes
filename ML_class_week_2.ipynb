{
  "cells": [
    {
      "cell_type": "markdown",
      "id": "963e3321",
      "metadata": {
        "id": "963e3321"
      },
      "source": [
        "# Week 2\n",
        "### Data preprocessing for ML applications\n",
        "\n",
        "During this class we will cover several basic steps of data treatment and preprocessing in order to use it for future Machine Learning models:\n",
        "\n",
        "1. Choosing and retrieving the dataset\n",
        "2. Importing the libraries\n",
        "3. Importing the dataset\n",
        "4. Finding and treating missing data\n",
        "5. Encoding categorical data\n",
        "6. Feature scaling\n",
        "7. Feature selection and dimentionality reduction\n",
        "8. Splitting the dataset: training, validation, and testing"
      ]
    },
    {
      "cell_type": "markdown",
      "id": "329bac6d",
      "metadata": {
        "id": "329bac6d"
      },
      "source": [
        "### Choosing and retrieving the dataset\n",
        "\n",
        "Since every ML model requires data to learn and its performance highly depends on the training process, it is crucially important to select appropriate information to feed the model into.\n",
        "\n",
        "For any particular task there might be two distinct approaches for data acquisition:\n",
        "* Find an existing dataset with appropriate samples\n",
        "* Create a new dataset from scratch (recordings, polls, data mining, etc.)\n",
        "    \n",
        "Important features of datasets:\n",
        "* Size (How to determine a sufficient number of samples?)\n",
        "* Cleanliness (How many missing values?)\n",
        "* Homogeneity (Are the samples appropriate and correspond to the task?)\n",
        "* Number of features (Is it good to have too many features? Too few?)\n",
        "    \n",
        "Data sources:\n",
        "*  Kaggle\n",
        "*  Google Dataset Search\n",
        "*  Datahub.io\n",
        "*  Subject specific websites and services (e.g., CERN Open Data, NASA Earth Data, etc.)"
      ]
    },
    {
      "cell_type": "markdown",
      "id": "db2f96c3",
      "metadata": {
        "id": "db2f96c3"
      },
      "source": [
        "### Importing the libraries\n",
        "\n",
        "There is a handful of useful libraries in Python that provide an easy way to treat data in a fast and efficient manner. Some popular examples:\n",
        "* Numpy\n",
        "* Pandas\n",
        "* Scikit-learn\n",
        "* Tensorflow / Keras\n",
        "* Pytorch\n",
        "* Jax"
      ]
    },
    {
      "cell_type": "code",
      "source": [
        "import pandas as pd\n",
        "import numpy as np\n",
        "import sklearn"
      ],
      "metadata": {
        "id": "At_hogcja0d9"
      },
      "id": "At_hogcja0d9",
      "execution_count": 160,
      "outputs": []
    },
    {
      "cell_type": "markdown",
      "id": "41a215e4",
      "metadata": {
        "id": "41a215e4"
      },
      "source": [
        "### Importing the dataset"
      ]
    },
    {
      "cell_type": "code",
      "source": [
        "data = pd.read_csv('https://raw.githubusercontent.com/datasciencedojo/datasets/master/titanic.csv')\n",
        "print(data)"
      ],
      "metadata": {
        "colab": {
          "base_uri": "https://localhost:8080/"
        },
        "id": "lrXBq-IxjTZZ",
        "outputId": "913a97f9-3676-4362-abe8-d25a08734558"
      },
      "id": "lrXBq-IxjTZZ",
      "execution_count": 161,
      "outputs": [
        {
          "output_type": "stream",
          "name": "stdout",
          "text": [
            "     PassengerId  Survived  Pclass  \\\n",
            "0              1         0       3   \n",
            "1              2         1       1   \n",
            "2              3         1       3   \n",
            "3              4         1       1   \n",
            "4              5         0       3   \n",
            "..           ...       ...     ...   \n",
            "886          887         0       2   \n",
            "887          888         1       1   \n",
            "888          889         0       3   \n",
            "889          890         1       1   \n",
            "890          891         0       3   \n",
            "\n",
            "                                                  Name     Sex   Age  SibSp  \\\n",
            "0                              Braund, Mr. Owen Harris    male  22.0      1   \n",
            "1    Cumings, Mrs. John Bradley (Florence Briggs Th...  female  38.0      1   \n",
            "2                               Heikkinen, Miss. Laina  female  26.0      0   \n",
            "3         Futrelle, Mrs. Jacques Heath (Lily May Peel)  female  35.0      1   \n",
            "4                             Allen, Mr. William Henry    male  35.0      0   \n",
            "..                                                 ...     ...   ...    ...   \n",
            "886                              Montvila, Rev. Juozas    male  27.0      0   \n",
            "887                       Graham, Miss. Margaret Edith  female  19.0      0   \n",
            "888           Johnston, Miss. Catherine Helen \"Carrie\"  female   NaN      1   \n",
            "889                              Behr, Mr. Karl Howell    male  26.0      0   \n",
            "890                                Dooley, Mr. Patrick    male  32.0      0   \n",
            "\n",
            "     Parch            Ticket     Fare Cabin Embarked  \n",
            "0        0         A/5 21171   7.2500   NaN        S  \n",
            "1        0          PC 17599  71.2833   C85        C  \n",
            "2        0  STON/O2. 3101282   7.9250   NaN        S  \n",
            "3        0            113803  53.1000  C123        S  \n",
            "4        0            373450   8.0500   NaN        S  \n",
            "..     ...               ...      ...   ...      ...  \n",
            "886      0            211536  13.0000   NaN        S  \n",
            "887      0            112053  30.0000   B42        S  \n",
            "888      2        W./C. 6607  23.4500   NaN        S  \n",
            "889      0            111369  30.0000  C148        C  \n",
            "890      0            370376   7.7500   NaN        Q  \n",
            "\n",
            "[891 rows x 12 columns]\n"
          ]
        }
      ]
    },
    {
      "cell_type": "markdown",
      "id": "8922ddf2",
      "metadata": {
        "id": "8922ddf2"
      },
      "source": [
        "### Finding and treating missing data\n",
        "\n",
        "Some samples within a dataset may have incomplete information: some or all the features might be missing. The training process cannot be executed with such missing pieces. Thus, before proceeding to the leaning, one must deal with missing data. There are several strategies that one can think of:\n",
        "* Removing entries with missing features\n",
        "* Removing features that are absent in too many samples\n",
        "* Imputation: filling out the missing fields:\n",
        "    * with the most common value\n",
        "    * with the mean/median of all samples\n",
        "    * with more complex strategies, e.g, Linear Regression, KNN\n",
        "    * using some prior knowledge"
      ]
    },
    {
      "cell_type": "code",
      "source": [
        "data.info()"
      ],
      "metadata": {
        "colab": {
          "base_uri": "https://localhost:8080/"
        },
        "id": "WYxl8Ke4jWhG",
        "outputId": "13f05eae-5635-4f6d-ce91-7fdbe4f50160"
      },
      "id": "WYxl8Ke4jWhG",
      "execution_count": 162,
      "outputs": [
        {
          "output_type": "stream",
          "name": "stdout",
          "text": [
            "<class 'pandas.core.frame.DataFrame'>\n",
            "RangeIndex: 891 entries, 0 to 890\n",
            "Data columns (total 12 columns):\n",
            " #   Column       Non-Null Count  Dtype  \n",
            "---  ------       --------------  -----  \n",
            " 0   PassengerId  891 non-null    int64  \n",
            " 1   Survived     891 non-null    int64  \n",
            " 2   Pclass       891 non-null    int64  \n",
            " 3   Name         891 non-null    object \n",
            " 4   Sex          891 non-null    object \n",
            " 5   Age          714 non-null    float64\n",
            " 6   SibSp        891 non-null    int64  \n",
            " 7   Parch        891 non-null    int64  \n",
            " 8   Ticket       891 non-null    object \n",
            " 9   Fare         891 non-null    float64\n",
            " 10  Cabin        204 non-null    object \n",
            " 11  Embarked     889 non-null    object \n",
            "dtypes: float64(2), int64(5), object(5)\n",
            "memory usage: 83.7+ KB\n"
          ]
        }
      ]
    },
    {
      "cell_type": "code",
      "source": [
        "data.drop(labels=['PassengerId', 'Ticket'], axis=1, inplace=True)"
      ],
      "metadata": {
        "id": "4D0GUYGcjZZj"
      },
      "id": "4D0GUYGcjZZj",
      "execution_count": 163,
      "outputs": []
    },
    {
      "cell_type": "code",
      "source": [
        "# The \"embarked\" feature\n",
        "\n",
        "# Let's check enrties with NaN\n",
        "\n",
        "data[data['Embarked'].isnull()]"
      ],
      "metadata": {
        "colab": {
          "base_uri": "https://localhost:8080/",
          "height": 112
        },
        "id": "QmyMm0OIkhxc",
        "outputId": "f9de27c7-b22a-4aaf-8c97-ec6449b36569"
      },
      "id": "QmyMm0OIkhxc",
      "execution_count": 164,
      "outputs": [
        {
          "output_type": "execute_result",
          "data": {
            "text/plain": [
              "     Survived  Pclass                                       Name     Sex  \\\n",
              "61          1       1                        Icard, Miss. Amelie  female   \n",
              "829         1       1  Stone, Mrs. George Nelson (Martha Evelyn)  female   \n",
              "\n",
              "      Age  SibSp  Parch  Fare Cabin Embarked  \n",
              "61   38.0      0      0  80.0   B28      NaN  \n",
              "829  62.0      0      0  80.0   B28      NaN  "
            ],
            "text/html": [
              "\n",
              "  <div id=\"df-0ec0dddd-3f1c-4975-83f2-599791791808\">\n",
              "    <div class=\"colab-df-container\">\n",
              "      <div>\n",
              "<style scoped>\n",
              "    .dataframe tbody tr th:only-of-type {\n",
              "        vertical-align: middle;\n",
              "    }\n",
              "\n",
              "    .dataframe tbody tr th {\n",
              "        vertical-align: top;\n",
              "    }\n",
              "\n",
              "    .dataframe thead th {\n",
              "        text-align: right;\n",
              "    }\n",
              "</style>\n",
              "<table border=\"1\" class=\"dataframe\">\n",
              "  <thead>\n",
              "    <tr style=\"text-align: right;\">\n",
              "      <th></th>\n",
              "      <th>Survived</th>\n",
              "      <th>Pclass</th>\n",
              "      <th>Name</th>\n",
              "      <th>Sex</th>\n",
              "      <th>Age</th>\n",
              "      <th>SibSp</th>\n",
              "      <th>Parch</th>\n",
              "      <th>Fare</th>\n",
              "      <th>Cabin</th>\n",
              "      <th>Embarked</th>\n",
              "    </tr>\n",
              "  </thead>\n",
              "  <tbody>\n",
              "    <tr>\n",
              "      <th>61</th>\n",
              "      <td>1</td>\n",
              "      <td>1</td>\n",
              "      <td>Icard, Miss. Amelie</td>\n",
              "      <td>female</td>\n",
              "      <td>38.0</td>\n",
              "      <td>0</td>\n",
              "      <td>0</td>\n",
              "      <td>80.0</td>\n",
              "      <td>B28</td>\n",
              "      <td>NaN</td>\n",
              "    </tr>\n",
              "    <tr>\n",
              "      <th>829</th>\n",
              "      <td>1</td>\n",
              "      <td>1</td>\n",
              "      <td>Stone, Mrs. George Nelson (Martha Evelyn)</td>\n",
              "      <td>female</td>\n",
              "      <td>62.0</td>\n",
              "      <td>0</td>\n",
              "      <td>0</td>\n",
              "      <td>80.0</td>\n",
              "      <td>B28</td>\n",
              "      <td>NaN</td>\n",
              "    </tr>\n",
              "  </tbody>\n",
              "</table>\n",
              "</div>\n",
              "      <button class=\"colab-df-convert\" onclick=\"convertToInteractive('df-0ec0dddd-3f1c-4975-83f2-599791791808')\"\n",
              "              title=\"Convert this dataframe to an interactive table.\"\n",
              "              style=\"display:none;\">\n",
              "        \n",
              "  <svg xmlns=\"http://www.w3.org/2000/svg\" height=\"24px\"viewBox=\"0 0 24 24\"\n",
              "       width=\"24px\">\n",
              "    <path d=\"M0 0h24v24H0V0z\" fill=\"none\"/>\n",
              "    <path d=\"M18.56 5.44l.94 2.06.94-2.06 2.06-.94-2.06-.94-.94-2.06-.94 2.06-2.06.94zm-11 1L8.5 8.5l.94-2.06 2.06-.94-2.06-.94L8.5 2.5l-.94 2.06-2.06.94zm10 10l.94 2.06.94-2.06 2.06-.94-2.06-.94-.94-2.06-.94 2.06-2.06.94z\"/><path d=\"M17.41 7.96l-1.37-1.37c-.4-.4-.92-.59-1.43-.59-.52 0-1.04.2-1.43.59L10.3 9.45l-7.72 7.72c-.78.78-.78 2.05 0 2.83L4 21.41c.39.39.9.59 1.41.59.51 0 1.02-.2 1.41-.59l7.78-7.78 2.81-2.81c.8-.78.8-2.07 0-2.86zM5.41 20L4 18.59l7.72-7.72 1.47 1.35L5.41 20z\"/>\n",
              "  </svg>\n",
              "      </button>\n",
              "      \n",
              "  <style>\n",
              "    .colab-df-container {\n",
              "      display:flex;\n",
              "      flex-wrap:wrap;\n",
              "      gap: 12px;\n",
              "    }\n",
              "\n",
              "    .colab-df-convert {\n",
              "      background-color: #E8F0FE;\n",
              "      border: none;\n",
              "      border-radius: 50%;\n",
              "      cursor: pointer;\n",
              "      display: none;\n",
              "      fill: #1967D2;\n",
              "      height: 32px;\n",
              "      padding: 0 0 0 0;\n",
              "      width: 32px;\n",
              "    }\n",
              "\n",
              "    .colab-df-convert:hover {\n",
              "      background-color: #E2EBFA;\n",
              "      box-shadow: 0px 1px 2px rgba(60, 64, 67, 0.3), 0px 1px 3px 1px rgba(60, 64, 67, 0.15);\n",
              "      fill: #174EA6;\n",
              "    }\n",
              "\n",
              "    [theme=dark] .colab-df-convert {\n",
              "      background-color: #3B4455;\n",
              "      fill: #D2E3FC;\n",
              "    }\n",
              "\n",
              "    [theme=dark] .colab-df-convert:hover {\n",
              "      background-color: #434B5C;\n",
              "      box-shadow: 0px 1px 3px 1px rgba(0, 0, 0, 0.15);\n",
              "      filter: drop-shadow(0px 1px 2px rgba(0, 0, 0, 0.3));\n",
              "      fill: #FFFFFF;\n",
              "    }\n",
              "  </style>\n",
              "\n",
              "      <script>\n",
              "        const buttonEl =\n",
              "          document.querySelector('#df-0ec0dddd-3f1c-4975-83f2-599791791808 button.colab-df-convert');\n",
              "        buttonEl.style.display =\n",
              "          google.colab.kernel.accessAllowed ? 'block' : 'none';\n",
              "\n",
              "        async function convertToInteractive(key) {\n",
              "          const element = document.querySelector('#df-0ec0dddd-3f1c-4975-83f2-599791791808');\n",
              "          const dataTable =\n",
              "            await google.colab.kernel.invokeFunction('convertToInteractive',\n",
              "                                                     [key], {});\n",
              "          if (!dataTable) return;\n",
              "\n",
              "          const docLinkHtml = 'Like what you see? Visit the ' +\n",
              "            '<a target=\"_blank\" href=https://colab.research.google.com/notebooks/data_table.ipynb>data table notebook</a>'\n",
              "            + ' to learn more about interactive tables.';\n",
              "          element.innerHTML = '';\n",
              "          dataTable['output_type'] = 'display_data';\n",
              "          await google.colab.output.renderOutput(dataTable, element);\n",
              "          const docLink = document.createElement('div');\n",
              "          docLink.innerHTML = docLinkHtml;\n",
              "          element.appendChild(docLink);\n",
              "        }\n",
              "      </script>\n",
              "    </div>\n",
              "  </div>\n",
              "  "
            ]
          },
          "metadata": {},
          "execution_count": 164
        }
      ]
    },
    {
      "cell_type": "code",
      "source": [
        "data['Embarked'].value_counts()"
      ],
      "metadata": {
        "colab": {
          "base_uri": "https://localhost:8080/"
        },
        "id": "oRHgPvyXmvQv",
        "outputId": "98de0253-33b2-4e4d-b610-b01cfb25efb9"
      },
      "id": "oRHgPvyXmvQv",
      "execution_count": 165,
      "outputs": [
        {
          "output_type": "execute_result",
          "data": {
            "text/plain": [
              "S    644\n",
              "C    168\n",
              "Q     77\n",
              "Name: Embarked, dtype: int64"
            ]
          },
          "metadata": {},
          "execution_count": 165
        }
      ]
    },
    {
      "cell_type": "code",
      "source": [
        "data['Embarked'].fillna('S', inplace=True)\n",
        "print(data)"
      ],
      "metadata": {
        "colab": {
          "base_uri": "https://localhost:8080/"
        },
        "id": "qAlO-EbXm9W1",
        "outputId": "2017a594-60d9-47a3-ac4f-56fa31139b77"
      },
      "id": "qAlO-EbXm9W1",
      "execution_count": 166,
      "outputs": [
        {
          "output_type": "stream",
          "name": "stdout",
          "text": [
            "     Survived  Pclass                                               Name  \\\n",
            "0           0       3                            Braund, Mr. Owen Harris   \n",
            "1           1       1  Cumings, Mrs. John Bradley (Florence Briggs Th...   \n",
            "2           1       3                             Heikkinen, Miss. Laina   \n",
            "3           1       1       Futrelle, Mrs. Jacques Heath (Lily May Peel)   \n",
            "4           0       3                           Allen, Mr. William Henry   \n",
            "..        ...     ...                                                ...   \n",
            "886         0       2                              Montvila, Rev. Juozas   \n",
            "887         1       1                       Graham, Miss. Margaret Edith   \n",
            "888         0       3           Johnston, Miss. Catherine Helen \"Carrie\"   \n",
            "889         1       1                              Behr, Mr. Karl Howell   \n",
            "890         0       3                                Dooley, Mr. Patrick   \n",
            "\n",
            "        Sex   Age  SibSp  Parch     Fare Cabin Embarked  \n",
            "0      male  22.0      1      0   7.2500   NaN        S  \n",
            "1    female  38.0      1      0  71.2833   C85        C  \n",
            "2    female  26.0      0      0   7.9250   NaN        S  \n",
            "3    female  35.0      1      0  53.1000  C123        S  \n",
            "4      male  35.0      0      0   8.0500   NaN        S  \n",
            "..      ...   ...    ...    ...      ...   ...      ...  \n",
            "886    male  27.0      0      0  13.0000   NaN        S  \n",
            "887  female  19.0      0      0  30.0000   B42        S  \n",
            "888  female   NaN      1      2  23.4500   NaN        S  \n",
            "889    male  26.0      0      0  30.0000  C148        C  \n",
            "890    male  32.0      0      0   7.7500   NaN        Q  \n",
            "\n",
            "[891 rows x 10 columns]\n"
          ]
        }
      ]
    },
    {
      "cell_type": "code",
      "source": [
        "data['Age'].median()"
      ],
      "metadata": {
        "colab": {
          "base_uri": "https://localhost:8080/"
        },
        "id": "i25frpgJuPSb",
        "outputId": "a41d6155-aacc-490f-9835-cba174a5f877"
      },
      "id": "i25frpgJuPSb",
      "execution_count": 167,
      "outputs": [
        {
          "output_type": "execute_result",
          "data": {
            "text/plain": [
              "28.0"
            ]
          },
          "metadata": {},
          "execution_count": 167
        }
      ]
    },
    {
      "cell_type": "code",
      "source": [
        "from sklearn.impute import SimpleImputer\n",
        "\n",
        "fea_transformer = SimpleImputer(strategy=\"median\")\n",
        "values = fea_transformer.fit_transform(data[[\"Age\"]])\n",
        "print(pd.DataFrame(values))"
      ],
      "metadata": {
        "colab": {
          "base_uri": "https://localhost:8080/"
        },
        "id": "PRO2pQtjstfm",
        "outputId": "c2dedca0-d8ec-40c9-bff1-eba82e7d5a00"
      },
      "id": "PRO2pQtjstfm",
      "execution_count": 168,
      "outputs": [
        {
          "output_type": "stream",
          "name": "stdout",
          "text": [
            "        0\n",
            "0    22.0\n",
            "1    38.0\n",
            "2    26.0\n",
            "3    35.0\n",
            "4    35.0\n",
            "..    ...\n",
            "886  27.0\n",
            "887  19.0\n",
            "888  28.0\n",
            "889  26.0\n",
            "890  32.0\n",
            "\n",
            "[891 rows x 1 columns]\n"
          ]
        }
      ]
    },
    {
      "cell_type": "code",
      "source": [
        "# KNN imputation (Later on in the code)\n",
        "\n",
        "# from sklearn.impute import KNNImputer\n",
        "\n",
        "# fea_transformer = KNNImputer(n_neighbors=3)\n",
        "# data[\"Age\"] = fea_transformer.fit_transform(data[[\"Age\"]]).astype(float)\n",
        "# print(data)"
      ],
      "metadata": {
        "id": "th5GGKpzoG49"
      },
      "id": "th5GGKpzoG49",
      "execution_count": 169,
      "outputs": []
    },
    {
      "cell_type": "code",
      "source": [
        "print(data.info())"
      ],
      "metadata": {
        "colab": {
          "base_uri": "https://localhost:8080/"
        },
        "id": "F0HCpZsZsoLC",
        "outputId": "8cffbc56-115e-46c8-f17d-a583f7ee7363"
      },
      "id": "F0HCpZsZsoLC",
      "execution_count": 170,
      "outputs": [
        {
          "output_type": "stream",
          "name": "stdout",
          "text": [
            "<class 'pandas.core.frame.DataFrame'>\n",
            "RangeIndex: 891 entries, 0 to 890\n",
            "Data columns (total 10 columns):\n",
            " #   Column    Non-Null Count  Dtype  \n",
            "---  ------    --------------  -----  \n",
            " 0   Survived  891 non-null    int64  \n",
            " 1   Pclass    891 non-null    int64  \n",
            " 2   Name      891 non-null    object \n",
            " 3   Sex       891 non-null    object \n",
            " 4   Age       714 non-null    float64\n",
            " 5   SibSp     891 non-null    int64  \n",
            " 6   Parch     891 non-null    int64  \n",
            " 7   Fare      891 non-null    float64\n",
            " 8   Cabin     204 non-null    object \n",
            " 9   Embarked  891 non-null    object \n",
            "dtypes: float64(2), int64(4), object(4)\n",
            "memory usage: 69.7+ KB\n",
            "None\n"
          ]
        }
      ]
    },
    {
      "cell_type": "markdown",
      "id": "fd409da6",
      "metadata": {
        "id": "fd409da6"
      },
      "source": [
        "### Encoding categorical data\n",
        "\n",
        "Some features in a dataset might be represented as values in a discrete set of categories (e.g., 'Sex', 'Embarked')\n",
        "In order to process such features one has to encode them in order to convert a categorical set (usually, strings) into a set of numerical values."
      ]
    },
    {
      "cell_type": "code",
      "source": [
        "pd.get_dummies(data, columns = ['Embarked']).head()"
      ],
      "metadata": {
        "colab": {
          "base_uri": "https://localhost:8080/",
          "height": 268
        },
        "id": "TlVNVeEEvD1y",
        "outputId": "7317f2b7-49cf-485b-89d3-468ae03d5b2e"
      },
      "id": "TlVNVeEEvD1y",
      "execution_count": 171,
      "outputs": [
        {
          "output_type": "execute_result",
          "data": {
            "text/plain": [
              "   Survived  Pclass                                               Name  \\\n",
              "0         0       3                            Braund, Mr. Owen Harris   \n",
              "1         1       1  Cumings, Mrs. John Bradley (Florence Briggs Th...   \n",
              "2         1       3                             Heikkinen, Miss. Laina   \n",
              "3         1       1       Futrelle, Mrs. Jacques Heath (Lily May Peel)   \n",
              "4         0       3                           Allen, Mr. William Henry   \n",
              "\n",
              "      Sex   Age  SibSp  Parch     Fare Cabin  Embarked_C  Embarked_Q  \\\n",
              "0    male  22.0      1      0   7.2500   NaN           0           0   \n",
              "1  female  38.0      1      0  71.2833   C85           1           0   \n",
              "2  female  26.0      0      0   7.9250   NaN           0           0   \n",
              "3  female  35.0      1      0  53.1000  C123           0           0   \n",
              "4    male  35.0      0      0   8.0500   NaN           0           0   \n",
              "\n",
              "   Embarked_S  \n",
              "0           1  \n",
              "1           0  \n",
              "2           1  \n",
              "3           1  \n",
              "4           1  "
            ],
            "text/html": [
              "\n",
              "  <div id=\"df-323cbb61-c2be-4ce9-a3ce-ca38dd91c68c\">\n",
              "    <div class=\"colab-df-container\">\n",
              "      <div>\n",
              "<style scoped>\n",
              "    .dataframe tbody tr th:only-of-type {\n",
              "        vertical-align: middle;\n",
              "    }\n",
              "\n",
              "    .dataframe tbody tr th {\n",
              "        vertical-align: top;\n",
              "    }\n",
              "\n",
              "    .dataframe thead th {\n",
              "        text-align: right;\n",
              "    }\n",
              "</style>\n",
              "<table border=\"1\" class=\"dataframe\">\n",
              "  <thead>\n",
              "    <tr style=\"text-align: right;\">\n",
              "      <th></th>\n",
              "      <th>Survived</th>\n",
              "      <th>Pclass</th>\n",
              "      <th>Name</th>\n",
              "      <th>Sex</th>\n",
              "      <th>Age</th>\n",
              "      <th>SibSp</th>\n",
              "      <th>Parch</th>\n",
              "      <th>Fare</th>\n",
              "      <th>Cabin</th>\n",
              "      <th>Embarked_C</th>\n",
              "      <th>Embarked_Q</th>\n",
              "      <th>Embarked_S</th>\n",
              "    </tr>\n",
              "  </thead>\n",
              "  <tbody>\n",
              "    <tr>\n",
              "      <th>0</th>\n",
              "      <td>0</td>\n",
              "      <td>3</td>\n",
              "      <td>Braund, Mr. Owen Harris</td>\n",
              "      <td>male</td>\n",
              "      <td>22.0</td>\n",
              "      <td>1</td>\n",
              "      <td>0</td>\n",
              "      <td>7.2500</td>\n",
              "      <td>NaN</td>\n",
              "      <td>0</td>\n",
              "      <td>0</td>\n",
              "      <td>1</td>\n",
              "    </tr>\n",
              "    <tr>\n",
              "      <th>1</th>\n",
              "      <td>1</td>\n",
              "      <td>1</td>\n",
              "      <td>Cumings, Mrs. John Bradley (Florence Briggs Th...</td>\n",
              "      <td>female</td>\n",
              "      <td>38.0</td>\n",
              "      <td>1</td>\n",
              "      <td>0</td>\n",
              "      <td>71.2833</td>\n",
              "      <td>C85</td>\n",
              "      <td>1</td>\n",
              "      <td>0</td>\n",
              "      <td>0</td>\n",
              "    </tr>\n",
              "    <tr>\n",
              "      <th>2</th>\n",
              "      <td>1</td>\n",
              "      <td>3</td>\n",
              "      <td>Heikkinen, Miss. Laina</td>\n",
              "      <td>female</td>\n",
              "      <td>26.0</td>\n",
              "      <td>0</td>\n",
              "      <td>0</td>\n",
              "      <td>7.9250</td>\n",
              "      <td>NaN</td>\n",
              "      <td>0</td>\n",
              "      <td>0</td>\n",
              "      <td>1</td>\n",
              "    </tr>\n",
              "    <tr>\n",
              "      <th>3</th>\n",
              "      <td>1</td>\n",
              "      <td>1</td>\n",
              "      <td>Futrelle, Mrs. Jacques Heath (Lily May Peel)</td>\n",
              "      <td>female</td>\n",
              "      <td>35.0</td>\n",
              "      <td>1</td>\n",
              "      <td>0</td>\n",
              "      <td>53.1000</td>\n",
              "      <td>C123</td>\n",
              "      <td>0</td>\n",
              "      <td>0</td>\n",
              "      <td>1</td>\n",
              "    </tr>\n",
              "    <tr>\n",
              "      <th>4</th>\n",
              "      <td>0</td>\n",
              "      <td>3</td>\n",
              "      <td>Allen, Mr. William Henry</td>\n",
              "      <td>male</td>\n",
              "      <td>35.0</td>\n",
              "      <td>0</td>\n",
              "      <td>0</td>\n",
              "      <td>8.0500</td>\n",
              "      <td>NaN</td>\n",
              "      <td>0</td>\n",
              "      <td>0</td>\n",
              "      <td>1</td>\n",
              "    </tr>\n",
              "  </tbody>\n",
              "</table>\n",
              "</div>\n",
              "      <button class=\"colab-df-convert\" onclick=\"convertToInteractive('df-323cbb61-c2be-4ce9-a3ce-ca38dd91c68c')\"\n",
              "              title=\"Convert this dataframe to an interactive table.\"\n",
              "              style=\"display:none;\">\n",
              "        \n",
              "  <svg xmlns=\"http://www.w3.org/2000/svg\" height=\"24px\"viewBox=\"0 0 24 24\"\n",
              "       width=\"24px\">\n",
              "    <path d=\"M0 0h24v24H0V0z\" fill=\"none\"/>\n",
              "    <path d=\"M18.56 5.44l.94 2.06.94-2.06 2.06-.94-2.06-.94-.94-2.06-.94 2.06-2.06.94zm-11 1L8.5 8.5l.94-2.06 2.06-.94-2.06-.94L8.5 2.5l-.94 2.06-2.06.94zm10 10l.94 2.06.94-2.06 2.06-.94-2.06-.94-.94-2.06-.94 2.06-2.06.94z\"/><path d=\"M17.41 7.96l-1.37-1.37c-.4-.4-.92-.59-1.43-.59-.52 0-1.04.2-1.43.59L10.3 9.45l-7.72 7.72c-.78.78-.78 2.05 0 2.83L4 21.41c.39.39.9.59 1.41.59.51 0 1.02-.2 1.41-.59l7.78-7.78 2.81-2.81c.8-.78.8-2.07 0-2.86zM5.41 20L4 18.59l7.72-7.72 1.47 1.35L5.41 20z\"/>\n",
              "  </svg>\n",
              "      </button>\n",
              "      \n",
              "  <style>\n",
              "    .colab-df-container {\n",
              "      display:flex;\n",
              "      flex-wrap:wrap;\n",
              "      gap: 12px;\n",
              "    }\n",
              "\n",
              "    .colab-df-convert {\n",
              "      background-color: #E8F0FE;\n",
              "      border: none;\n",
              "      border-radius: 50%;\n",
              "      cursor: pointer;\n",
              "      display: none;\n",
              "      fill: #1967D2;\n",
              "      height: 32px;\n",
              "      padding: 0 0 0 0;\n",
              "      width: 32px;\n",
              "    }\n",
              "\n",
              "    .colab-df-convert:hover {\n",
              "      background-color: #E2EBFA;\n",
              "      box-shadow: 0px 1px 2px rgba(60, 64, 67, 0.3), 0px 1px 3px 1px rgba(60, 64, 67, 0.15);\n",
              "      fill: #174EA6;\n",
              "    }\n",
              "\n",
              "    [theme=dark] .colab-df-convert {\n",
              "      background-color: #3B4455;\n",
              "      fill: #D2E3FC;\n",
              "    }\n",
              "\n",
              "    [theme=dark] .colab-df-convert:hover {\n",
              "      background-color: #434B5C;\n",
              "      box-shadow: 0px 1px 3px 1px rgba(0, 0, 0, 0.15);\n",
              "      filter: drop-shadow(0px 1px 2px rgba(0, 0, 0, 0.3));\n",
              "      fill: #FFFFFF;\n",
              "    }\n",
              "  </style>\n",
              "\n",
              "      <script>\n",
              "        const buttonEl =\n",
              "          document.querySelector('#df-323cbb61-c2be-4ce9-a3ce-ca38dd91c68c button.colab-df-convert');\n",
              "        buttonEl.style.display =\n",
              "          google.colab.kernel.accessAllowed ? 'block' : 'none';\n",
              "\n",
              "        async function convertToInteractive(key) {\n",
              "          const element = document.querySelector('#df-323cbb61-c2be-4ce9-a3ce-ca38dd91c68c');\n",
              "          const dataTable =\n",
              "            await google.colab.kernel.invokeFunction('convertToInteractive',\n",
              "                                                     [key], {});\n",
              "          if (!dataTable) return;\n",
              "\n",
              "          const docLinkHtml = 'Like what you see? Visit the ' +\n",
              "            '<a target=\"_blank\" href=https://colab.research.google.com/notebooks/data_table.ipynb>data table notebook</a>'\n",
              "            + ' to learn more about interactive tables.';\n",
              "          element.innerHTML = '';\n",
              "          dataTable['output_type'] = 'display_data';\n",
              "          await google.colab.output.renderOutput(dataTable, element);\n",
              "          const docLink = document.createElement('div');\n",
              "          docLink.innerHTML = docLinkHtml;\n",
              "          element.appendChild(docLink);\n",
              "        }\n",
              "      </script>\n",
              "    </div>\n",
              "  </div>\n",
              "  "
            ]
          },
          "metadata": {},
          "execution_count": 171
        }
      ]
    },
    {
      "cell_type": "code",
      "source": [
        "from sklearn.preprocessing import LabelEncoder\n",
        "le = LabelEncoder()\n",
        "data['Embarked'] = le.fit_transform(data['Embarked'])\n",
        "print(data)"
      ],
      "metadata": {
        "colab": {
          "base_uri": "https://localhost:8080/"
        },
        "id": "QJD0_hd5wY8w",
        "outputId": "66c73eb9-c3ef-432e-d4e6-385113e8c508"
      },
      "id": "QJD0_hd5wY8w",
      "execution_count": 172,
      "outputs": [
        {
          "output_type": "stream",
          "name": "stdout",
          "text": [
            "     Survived  Pclass                                               Name  \\\n",
            "0           0       3                            Braund, Mr. Owen Harris   \n",
            "1           1       1  Cumings, Mrs. John Bradley (Florence Briggs Th...   \n",
            "2           1       3                             Heikkinen, Miss. Laina   \n",
            "3           1       1       Futrelle, Mrs. Jacques Heath (Lily May Peel)   \n",
            "4           0       3                           Allen, Mr. William Henry   \n",
            "..        ...     ...                                                ...   \n",
            "886         0       2                              Montvila, Rev. Juozas   \n",
            "887         1       1                       Graham, Miss. Margaret Edith   \n",
            "888         0       3           Johnston, Miss. Catherine Helen \"Carrie\"   \n",
            "889         1       1                              Behr, Mr. Karl Howell   \n",
            "890         0       3                                Dooley, Mr. Patrick   \n",
            "\n",
            "        Sex   Age  SibSp  Parch     Fare Cabin  Embarked  \n",
            "0      male  22.0      1      0   7.2500   NaN         2  \n",
            "1    female  38.0      1      0  71.2833   C85         0  \n",
            "2    female  26.0      0      0   7.9250   NaN         2  \n",
            "3    female  35.0      1      0  53.1000  C123         2  \n",
            "4      male  35.0      0      0   8.0500   NaN         2  \n",
            "..      ...   ...    ...    ...      ...   ...       ...  \n",
            "886    male  27.0      0      0  13.0000   NaN         2  \n",
            "887  female  19.0      0      0  30.0000   B42         2  \n",
            "888  female   NaN      1      2  23.4500   NaN         2  \n",
            "889    male  26.0      0      0  30.0000  C148         0  \n",
            "890    male  32.0      0      0   7.7500   NaN         1  \n",
            "\n",
            "[891 rows x 10 columns]\n"
          ]
        }
      ]
    },
    {
      "cell_type": "code",
      "source": [
        "data['Sex'] = le.fit_transform(data['Sex'])\n",
        "print(data)"
      ],
      "metadata": {
        "colab": {
          "base_uri": "https://localhost:8080/"
        },
        "id": "6KgIQQQ5xaUx",
        "outputId": "1f1d5754-5ea7-4314-a1e6-c68e76d4b23b"
      },
      "id": "6KgIQQQ5xaUx",
      "execution_count": 173,
      "outputs": [
        {
          "output_type": "stream",
          "name": "stdout",
          "text": [
            "     Survived  Pclass                                               Name  Sex  \\\n",
            "0           0       3                            Braund, Mr. Owen Harris    1   \n",
            "1           1       1  Cumings, Mrs. John Bradley (Florence Briggs Th...    0   \n",
            "2           1       3                             Heikkinen, Miss. Laina    0   \n",
            "3           1       1       Futrelle, Mrs. Jacques Heath (Lily May Peel)    0   \n",
            "4           0       3                           Allen, Mr. William Henry    1   \n",
            "..        ...     ...                                                ...  ...   \n",
            "886         0       2                              Montvila, Rev. Juozas    1   \n",
            "887         1       1                       Graham, Miss. Margaret Edith    0   \n",
            "888         0       3           Johnston, Miss. Catherine Helen \"Carrie\"    0   \n",
            "889         1       1                              Behr, Mr. Karl Howell    1   \n",
            "890         0       3                                Dooley, Mr. Patrick    1   \n",
            "\n",
            "      Age  SibSp  Parch     Fare Cabin  Embarked  \n",
            "0    22.0      1      0   7.2500   NaN         2  \n",
            "1    38.0      1      0  71.2833   C85         0  \n",
            "2    26.0      0      0   7.9250   NaN         2  \n",
            "3    35.0      1      0  53.1000  C123         2  \n",
            "4    35.0      0      0   8.0500   NaN         2  \n",
            "..    ...    ...    ...      ...   ...       ...  \n",
            "886  27.0      0      0  13.0000   NaN         2  \n",
            "887  19.0      0      0  30.0000   B42         2  \n",
            "888   NaN      1      2  23.4500   NaN         2  \n",
            "889  26.0      0      0  30.0000  C148         0  \n",
            "890  32.0      0      0   7.7500   NaN         1  \n",
            "\n",
            "[891 rows x 10 columns]\n"
          ]
        }
      ]
    },
    {
      "cell_type": "code",
      "source": [
        "def cabin_replace(cabin):\n",
        "  cabin_list = ['A', 'B', 'C', 'D', 'E', 'F', 'T', 'G']\n",
        "  for substring in cabin_list:\n",
        "    if substring in str(cabin):\n",
        "      return substring\n",
        "  return np.nan\n",
        "\n",
        "data['Cabin'] = data['Cabin'].apply(cabin_replace)\n",
        "print(data)"
      ],
      "metadata": {
        "colab": {
          "base_uri": "https://localhost:8080/"
        },
        "id": "FoFsQSrUOB5g",
        "outputId": "017b6c2c-79b0-4375-8afb-2fbb86e9635e"
      },
      "id": "FoFsQSrUOB5g",
      "execution_count": 174,
      "outputs": [
        {
          "output_type": "stream",
          "name": "stdout",
          "text": [
            "     Survived  Pclass                                               Name  Sex  \\\n",
            "0           0       3                            Braund, Mr. Owen Harris    1   \n",
            "1           1       1  Cumings, Mrs. John Bradley (Florence Briggs Th...    0   \n",
            "2           1       3                             Heikkinen, Miss. Laina    0   \n",
            "3           1       1       Futrelle, Mrs. Jacques Heath (Lily May Peel)    0   \n",
            "4           0       3                           Allen, Mr. William Henry    1   \n",
            "..        ...     ...                                                ...  ...   \n",
            "886         0       2                              Montvila, Rev. Juozas    1   \n",
            "887         1       1                       Graham, Miss. Margaret Edith    0   \n",
            "888         0       3           Johnston, Miss. Catherine Helen \"Carrie\"    0   \n",
            "889         1       1                              Behr, Mr. Karl Howell    1   \n",
            "890         0       3                                Dooley, Mr. Patrick    1   \n",
            "\n",
            "      Age  SibSp  Parch     Fare Cabin  Embarked  \n",
            "0    22.0      1      0   7.2500   NaN         2  \n",
            "1    38.0      1      0  71.2833     C         0  \n",
            "2    26.0      0      0   7.9250   NaN         2  \n",
            "3    35.0      1      0  53.1000     C         2  \n",
            "4    35.0      0      0   8.0500   NaN         2  \n",
            "..    ...    ...    ...      ...   ...       ...  \n",
            "886  27.0      0      0  13.0000   NaN         2  \n",
            "887  19.0      0      0  30.0000     B         2  \n",
            "888   NaN      1      2  23.4500   NaN         2  \n",
            "889  26.0      0      0  30.0000     C         0  \n",
            "890  32.0      0      0   7.7500   NaN         1  \n",
            "\n",
            "[891 rows x 10 columns]\n"
          ]
        }
      ]
    },
    {
      "cell_type": "code",
      "source": [
        "data['Cabin'] = le.fit_transform(data['Cabin'])\n",
        "print(data)"
      ],
      "metadata": {
        "colab": {
          "base_uri": "https://localhost:8080/"
        },
        "id": "nXM4I7tMPmsU",
        "outputId": "4c3e520b-3da0-4d42-a3a8-d86551a8c3c9"
      },
      "id": "nXM4I7tMPmsU",
      "execution_count": 175,
      "outputs": [
        {
          "output_type": "stream",
          "name": "stdout",
          "text": [
            "     Survived  Pclass                                               Name  Sex  \\\n",
            "0           0       3                            Braund, Mr. Owen Harris    1   \n",
            "1           1       1  Cumings, Mrs. John Bradley (Florence Briggs Th...    0   \n",
            "2           1       3                             Heikkinen, Miss. Laina    0   \n",
            "3           1       1       Futrelle, Mrs. Jacques Heath (Lily May Peel)    0   \n",
            "4           0       3                           Allen, Mr. William Henry    1   \n",
            "..        ...     ...                                                ...  ...   \n",
            "886         0       2                              Montvila, Rev. Juozas    1   \n",
            "887         1       1                       Graham, Miss. Margaret Edith    0   \n",
            "888         0       3           Johnston, Miss. Catherine Helen \"Carrie\"    0   \n",
            "889         1       1                              Behr, Mr. Karl Howell    1   \n",
            "890         0       3                                Dooley, Mr. Patrick    1   \n",
            "\n",
            "      Age  SibSp  Parch     Fare  Cabin  Embarked  \n",
            "0    22.0      1      0   7.2500      8         2  \n",
            "1    38.0      1      0  71.2833      2         0  \n",
            "2    26.0      0      0   7.9250      8         2  \n",
            "3    35.0      1      0  53.1000      2         2  \n",
            "4    35.0      0      0   8.0500      8         2  \n",
            "..    ...    ...    ...      ...    ...       ...  \n",
            "886  27.0      0      0  13.0000      8         2  \n",
            "887  19.0      0      0  30.0000      1         2  \n",
            "888   NaN      1      2  23.4500      8         2  \n",
            "889  26.0      0      0  30.0000      2         0  \n",
            "890  32.0      0      0   7.7500      8         1  \n",
            "\n",
            "[891 rows x 10 columns]\n"
          ]
        }
      ]
    },
    {
      "cell_type": "code",
      "source": [
        "def get_title(string):\n",
        "    import re\n",
        "    regex = re.compile(r'Mr|Don|Major|Capt|Jonkheer|Rev|Col|Dr|Mrs|Countess|Dona|Mme|Ms|Miss|Mlle|Master', re.IGNORECASE)\n",
        "    results = regex.search(string)\n",
        "    if results != None:\n",
        "        return(results.group().lower())\n",
        "    else:\n",
        "        return np.nan\n",
        "\n",
        "data['Name'] = data['Name'].apply(get_title)\n",
        "data['Name'] = le.fit_transform(data['Name'])\n",
        "print(data)"
      ],
      "metadata": {
        "colab": {
          "base_uri": "https://localhost:8080/"
        },
        "id": "71AkAp3fRJiW",
        "outputId": "182f0e76-6626-4beb-f95b-2179caca1983"
      },
      "id": "71AkAp3fRJiW",
      "execution_count": 176,
      "outputs": [
        {
          "output_type": "stream",
          "name": "stdout",
          "text": [
            "     Survived  Pclass  Name  Sex   Age  SibSp  Parch     Fare  Cabin  Embarked\n",
            "0           0       3    11    1  22.0      1      0   7.2500      8         2\n",
            "1           1       1    11    0  38.0      1      0  71.2833      2         0\n",
            "2           1       3     8    0  26.0      0      0   7.9250      8         2\n",
            "3           1       1    11    0  35.0      1      0  53.1000      2         2\n",
            "4           0       3    11    1  35.0      0      0   8.0500      8         2\n",
            "..        ...     ...   ...  ...   ...    ...    ...      ...    ...       ...\n",
            "886         0       2    13    1  27.0      0      0  13.0000      8         2\n",
            "887         1       1     8    0  19.0      0      0  30.0000      1         2\n",
            "888         0       3     8    0   NaN      1      2  23.4500      8         2\n",
            "889         1       1    11    1  26.0      0      0  30.0000      2         0\n",
            "890         0       3    11    1  32.0      0      0   7.7500      8         1\n",
            "\n",
            "[891 rows x 10 columns]\n"
          ]
        }
      ]
    },
    {
      "cell_type": "code",
      "source": [
        "#Going back to filling out the missing data with KNNImputer\n",
        "from sklearn.impute import KNNImputer\n",
        "\n",
        "fea_transformer = KNNImputer(n_neighbors=3)\n",
        "data[\"Age\"] = fea_transformer.fit_transform(data[[\"Age\"]]).astype(float)\n",
        "print(data)"
      ],
      "metadata": {
        "colab": {
          "base_uri": "https://localhost:8080/"
        },
        "id": "XrTfC2wzVKdU",
        "outputId": "d1d45832-b2c8-4d90-b15b-a6f1c598ddb0"
      },
      "id": "XrTfC2wzVKdU",
      "execution_count": 177,
      "outputs": [
        {
          "output_type": "stream",
          "name": "stdout",
          "text": [
            "     Survived  Pclass  Name  Sex        Age  SibSp  Parch     Fare  Cabin  \\\n",
            "0           0       3    11    1  22.000000      1      0   7.2500      8   \n",
            "1           1       1    11    0  38.000000      1      0  71.2833      2   \n",
            "2           1       3     8    0  26.000000      0      0   7.9250      8   \n",
            "3           1       1    11    0  35.000000      1      0  53.1000      2   \n",
            "4           0       3    11    1  35.000000      0      0   8.0500      8   \n",
            "..        ...     ...   ...  ...        ...    ...    ...      ...    ...   \n",
            "886         0       2    13    1  27.000000      0      0  13.0000      8   \n",
            "887         1       1     8    0  19.000000      0      0  30.0000      1   \n",
            "888         0       3     8    0  29.699118      1      2  23.4500      8   \n",
            "889         1       1    11    1  26.000000      0      0  30.0000      2   \n",
            "890         0       3    11    1  32.000000      0      0   7.7500      8   \n",
            "\n",
            "     Embarked  \n",
            "0           2  \n",
            "1           0  \n",
            "2           2  \n",
            "3           2  \n",
            "4           2  \n",
            "..        ...  \n",
            "886         2  \n",
            "887         2  \n",
            "888         2  \n",
            "889         0  \n",
            "890         1  \n",
            "\n",
            "[891 rows x 10 columns]\n"
          ]
        }
      ]
    },
    {
      "cell_type": "markdown",
      "id": "e099fa5d",
      "metadata": {
        "id": "e099fa5d"
      },
      "source": [
        "### Feature scaling\n",
        "\n",
        "* Standartization"
      ]
    },
    {
      "cell_type": "code",
      "source": [
        "print((data-data.mean())/data.std())"
      ],
      "metadata": {
        "colab": {
          "base_uri": "https://localhost:8080/"
        },
        "id": "gYH8IoDeSgKl",
        "outputId": "03bdf4e2-6bed-4c54-c5cc-b3dacb7d4402"
      },
      "id": "gYH8IoDeSgKl",
      "execution_count": 178,
      "outputs": [
        {
          "output_type": "stream",
          "name": "stdout",
          "text": [
            "     Survived    Pclass      Name       Sex       Age     SibSp     Parch  \\\n",
            "0   -0.788829  0.826913  0.535093  0.737281 -0.592148  0.432550 -0.473408   \n",
            "1    1.266279 -1.565228  0.535093 -1.354813  0.638430  0.432550 -0.473408   \n",
            "2    1.266279  0.826913 -0.931884 -1.354813 -0.284503 -0.474279 -0.473408   \n",
            "3    1.266279 -1.565228  0.535093 -1.354813  0.407697  0.432550 -0.473408   \n",
            "4   -0.788829  0.826913  0.535093  0.737281  0.407697 -0.474279 -0.473408   \n",
            "..        ...       ...       ...       ...       ...       ...       ...   \n",
            "886 -0.788829 -0.369158  1.513077  0.737281 -0.207592 -0.474279 -0.473408   \n",
            "887  1.266279 -1.565228 -0.931884 -1.354813 -0.822881 -0.474279 -0.473408   \n",
            "888 -0.788829  0.826913 -0.931884 -1.354813  0.000000  0.432550  2.007806   \n",
            "889  1.266279 -1.565228  0.535093  0.737281 -0.284503 -0.474279 -0.473408   \n",
            "890 -0.788829  0.826913  0.535093  0.737281  0.176964 -0.474279 -0.473408   \n",
            "\n",
            "         Fare     Cabin  Embarked  \n",
            "0   -0.502163  0.522016  0.585625  \n",
            "1    0.786404 -1.915274 -1.941213  \n",
            "2   -0.488580  0.522016  0.585625  \n",
            "3    0.420494 -1.915274  0.585625  \n",
            "4   -0.486064  0.522016  0.585625  \n",
            "..        ...       ...       ...  \n",
            "886 -0.386454  0.522016  0.585625  \n",
            "887 -0.044356 -2.321489  0.585625  \n",
            "888 -0.176164  0.522016  0.585625  \n",
            "889 -0.044356 -1.915274 -1.941213  \n",
            "890 -0.492101  0.522016 -0.677794  \n",
            "\n",
            "[891 rows x 10 columns]\n"
          ]
        }
      ]
    },
    {
      "cell_type": "markdown",
      "source": [
        "* Normalization"
      ],
      "metadata": {
        "id": "TWhK8OudSfal"
      },
      "id": "TWhK8OudSfal"
    },
    {
      "cell_type": "code",
      "source": [
        "print((data-data.min())/(data.max()-data.min()))"
      ],
      "metadata": {
        "colab": {
          "base_uri": "https://localhost:8080/"
        },
        "id": "JTbRvbMSMZlQ",
        "outputId": "a71c54c9-06d7-4e29-b754-5ff56ea198ef"
      },
      "id": "JTbRvbMSMZlQ",
      "execution_count": 179,
      "outputs": [
        {
          "output_type": "stream",
          "name": "stdout",
          "text": [
            "     Survived  Pclass      Name  Sex       Age  SibSp     Parch      Fare  \\\n",
            "0         0.0     1.0  0.846154  1.0  0.271174  0.125  0.000000  0.014151   \n",
            "1         1.0     0.0  0.846154  0.0  0.472229  0.125  0.000000  0.139136   \n",
            "2         1.0     1.0  0.615385  0.0  0.321438  0.000  0.000000  0.015469   \n",
            "3         1.0     0.0  0.846154  0.0  0.434531  0.125  0.000000  0.103644   \n",
            "4         0.0     1.0  0.846154  1.0  0.434531  0.000  0.000000  0.015713   \n",
            "..        ...     ...       ...  ...       ...    ...       ...       ...   \n",
            "886       0.0     0.5  1.000000  1.0  0.334004  0.000  0.000000  0.025374   \n",
            "887       1.0     0.0  0.615385  0.0  0.233476  0.000  0.000000  0.058556   \n",
            "888       0.0     1.0  0.615385  0.0  0.367921  0.125  0.333333  0.045771   \n",
            "889       1.0     0.0  0.846154  1.0  0.321438  0.000  0.000000  0.058556   \n",
            "890       0.0     1.0  0.846154  1.0  0.396833  0.000  0.000000  0.015127   \n",
            "\n",
            "     Cabin  Embarked  \n",
            "0    1.000       1.0  \n",
            "1    0.250       0.0  \n",
            "2    1.000       1.0  \n",
            "3    0.250       1.0  \n",
            "4    1.000       1.0  \n",
            "..     ...       ...  \n",
            "886  1.000       1.0  \n",
            "887  0.125       1.0  \n",
            "888  1.000       1.0  \n",
            "889  0.250       0.0  \n",
            "890  1.000       0.5  \n",
            "\n",
            "[891 rows x 10 columns]\n"
          ]
        }
      ]
    },
    {
      "cell_type": "markdown",
      "source": [
        "In the following example we will proceed with the standartization:"
      ],
      "metadata": {
        "id": "ehre-bbkTzQN"
      },
      "id": "ehre-bbkTzQN"
    },
    {
      "cell_type": "code",
      "source": [
        "data = (data - data.mean()) / data.std()"
      ],
      "metadata": {
        "id": "eAntNdd9T37n"
      },
      "id": "eAntNdd9T37n",
      "execution_count": 180,
      "outputs": []
    },
    {
      "cell_type": "markdown",
      "source": [
        "### Feature selection and dimentionality reduction"
      ],
      "metadata": {
        "id": "hec767qrUOZ5"
      },
      "id": "hec767qrUOZ5"
    },
    {
      "cell_type": "code",
      "source": [
        "import matplotlib.pyplot as plt\n",
        "\n",
        "a = data.corr()\n",
        "print(a)\n",
        "fig, ax = plt.subplots(figsize=(9, 9))\n",
        "heatmap = ax.imshow(a, cmap='gray_r', interpolation='nearest')\n",
        "ax.set_yticks(range(len(a.index.values)))\n",
        "ax.set_yticklabels(a.index.values)\n",
        "ax.set_xticks(range(len(a.index.values)))\n",
        "ax.set_xticklabels(a.index.values)\n",
        "plt.colorbar(heatmap)\n",
        "plt.show()"
      ],
      "metadata": {
        "colab": {
          "base_uri": "https://localhost:8080/",
          "height": 935
        },
        "id": "cGE-uj-nUP8K",
        "outputId": "685e5330-b5a3-4f12-ddb5-7196782353c4"
      },
      "id": "cGE-uj-nUP8K",
      "execution_count": 181,
      "outputs": [
        {
          "output_type": "stream",
          "name": "stdout",
          "text": [
            "          Survived    Pclass      Name       Sex       Age     SibSp  \\\n",
            "Survived  1.000000 -0.338481 -0.247007 -0.543351 -0.069809 -0.035322   \n",
            "Pclass   -0.338481  1.000000  0.082096  0.131900 -0.331339  0.083081   \n",
            "Name     -0.247007  0.082096  1.000000  0.314259  0.206253 -0.171926   \n",
            "Sex      -0.543351  0.131900  0.314259  1.000000  0.084153 -0.114631   \n",
            "Age      -0.069809 -0.331339  0.206253  0.084153  1.000000 -0.232625   \n",
            "SibSp    -0.035322  0.083081 -0.171926 -0.114631 -0.232625  1.000000   \n",
            "Parch     0.081629  0.018443 -0.134244 -0.245489 -0.179191  0.414838   \n",
            "Fare      0.257307 -0.549500 -0.079902 -0.182333  0.091566  0.159651   \n",
            "Cabin    -0.301570  0.745932  0.079690  0.123644 -0.249032  0.041325   \n",
            "Embarked -0.167675  0.162098  0.073625  0.108262 -0.026749  0.068230   \n",
            "\n",
            "             Parch      Fare     Cabin  Embarked  \n",
            "Survived  0.081629  0.257307 -0.301570 -0.167675  \n",
            "Pclass    0.018443 -0.549500  0.745932  0.162098  \n",
            "Name     -0.134244 -0.079902  0.079690  0.073625  \n",
            "Sex      -0.245489 -0.182333  0.123644  0.108262  \n",
            "Age      -0.179191  0.091566 -0.249032 -0.026749  \n",
            "SibSp     0.414838  0.159651  0.041325  0.068230  \n",
            "Parch     1.000000  0.216225 -0.032884  0.039798  \n",
            "Fare      0.216225  1.000000 -0.522708 -0.224719  \n",
            "Cabin    -0.032884 -0.522708  1.000000  0.195061  \n",
            "Embarked  0.039798 -0.224719  0.195061  1.000000  \n"
          ]
        },
        {
          "output_type": "display_data",
          "data": {
            "text/plain": [
              "<Figure size 648x648 with 2 Axes>"
            ],
            "image/png": "[encoded data removed]"
          },
          "metadata": {
            "needs_background": "light"
          }
        }
      ]
    },
    {
      "cell_type": "code",
      "source": [
        "data['Family_size'] = data['SibSp'] + data['Parch']\n",
        "data.drop(labels=['SibSp', 'Parch', 'Cabin'], axis=1, inplace=True)\n",
        "print(data)"
      ],
      "metadata": {
        "colab": {
          "base_uri": "https://localhost:8080/"
        },
        "id": "DuKvTwQFWsqn",
        "outputId": "2c99589c-b0a2-4e3a-cde1-45a425bd281a"
      },
      "id": "DuKvTwQFWsqn",
      "execution_count": 182,
      "outputs": [
        {
          "output_type": "stream",
          "name": "stdout",
          "text": [
            "     Survived    Pclass      Name       Sex       Age      Fare  Embarked  \\\n",
            "0   -0.788829  0.826913  0.535093  0.737281 -0.592148 -0.502163  0.585625   \n",
            "1    1.266279 -1.565228  0.535093 -1.354813  0.638430  0.786404 -1.941213   \n",
            "2    1.266279  0.826913 -0.931884 -1.354813 -0.284503 -0.488580  0.585625   \n",
            "3    1.266279 -1.565228  0.535093 -1.354813  0.407697  0.420494  0.585625   \n",
            "4   -0.788829  0.826913  0.535093  0.737281  0.407697 -0.486064  0.585625   \n",
            "..        ...       ...       ...       ...       ...       ...       ...   \n",
            "886 -0.788829 -0.369158  1.513077  0.737281 -0.207592 -0.386454  0.585625   \n",
            "887  1.266279 -1.565228 -0.931884 -1.354813 -0.822881 -0.044356  0.585625   \n",
            "888 -0.788829  0.826913 -0.931884 -1.354813  0.000000 -0.176164  0.585625   \n",
            "889  1.266279 -1.565228  0.535093  0.737281 -0.284503 -0.044356 -1.941213   \n",
            "890 -0.788829  0.826913  0.535093  0.737281  0.176964 -0.492101 -0.677794   \n",
            "\n",
            "     Family_size  \n",
            "0      -0.040857  \n",
            "1      -0.040857  \n",
            "2      -0.947687  \n",
            "3      -0.040857  \n",
            "4      -0.947687  \n",
            "..           ...  \n",
            "886    -0.947687  \n",
            "887    -0.947687  \n",
            "888     2.440356  \n",
            "889    -0.947687  \n",
            "890    -0.947687  \n",
            "\n",
            "[891 rows x 8 columns]\n"
          ]
        }
      ]
    },
    {
      "cell_type": "markdown",
      "source": [
        "### Splitting the dataset: training, validation, and testing"
      ],
      "metadata": {
        "collapsed": false,
        "id": "6lGNnZLVQ56e"
      },
      "id": "6lGNnZLVQ56e"
    },
    {
      "cell_type": "code",
      "execution_count": 183,
      "id": "2c9fd6a9",
      "metadata": {
        "pycharm": {
          "is_executing": true
        },
        "id": "2c9fd6a9"
      },
      "outputs": [],
      "source": [
        "X = data.drop('Survived', axis=1)\n",
        "y = data['Survived']\n",
        "\n",
        "# Standard train/test split\n",
        "X_train, X_test, y_train, y_test = sklearn.model_selection.train_test_split(X, y, test_size=0.2)\n",
        "\n",
        "# Train/test/validation split\n",
        "X_train_val, X_test, y_train_val, y_test = sklearn.model_selection.train_test_split(X, y, test_size=0.2)\n",
        "X_train, X_val, y_train, y_test_val = sklearn.model_selection.train_test_split(X_train_val, y_train_val, test_size=0.25)"
      ]
    },
    {
      "cell_type": "code",
      "source": [
        "print(X_train, y_train)"
      ],
      "metadata": {
        "colab": {
          "base_uri": "https://localhost:8080/"
        },
        "id": "e7gQm1YpY2UH",
        "outputId": "2ef47a95-3e06-4e1e-bf82-e9d7dcaca20e"
      },
      "id": "e7gQm1YpY2UH",
      "execution_count": 184,
      "outputs": [
        {
          "output_type": "stream",
          "name": "stdout",
          "text": [
            "       Pclass      Name       Sex       Age      Fare  Embarked  Family_size\n",
            "629  0.826913  0.535093  0.737281  0.000000 -0.492438 -0.677794    -0.947687\n",
            "653  0.826913 -0.931884 -1.354813  0.000000 -0.490508 -0.677794    -0.947687\n",
            "453 -1.565228  0.535093  0.737281  1.484453  1.145020 -1.941213    -0.040857\n",
            "873  0.826913  0.535093  0.737281  1.330631 -0.466947  0.585625    -0.947687\n",
            "724 -1.565228  0.535093  0.737281 -0.207592  0.420494  0.585625    -0.040857\n",
            "..        ...       ...       ...       ...       ...       ...          ...\n",
            "624  0.826913  0.535093  0.737281 -0.669059 -0.324071  0.585625    -0.947687\n",
            "524  0.826913  0.535093  0.737281  0.000000 -0.502582 -1.941213    -0.947687\n",
            "335  0.826913  0.535093  0.737281  0.000000 -0.489167  0.585625    -0.947687\n",
            "350  0.826913  0.535093  0.737281 -0.515237 -0.462419  0.585625    -0.947687\n",
            "543 -0.369158  0.535093  0.737281  0.176964 -0.124850  0.585625    -0.040857\n",
            "\n",
            "[534 rows x 7 columns] 629   -0.788829\n",
            "653    1.266279\n",
            "453    1.266279\n",
            "873   -0.788829\n",
            "724    1.266279\n",
            "         ...   \n",
            "624   -0.788829\n",
            "524   -0.788829\n",
            "335   -0.788829\n",
            "350   -0.788829\n",
            "543    1.266279\n",
            "Name: Survived, Length: 534, dtype: float64\n"
          ]
        }
      ]
    },
    {
      "cell_type": "markdown",
      "source": [
        "### Matrix manipulation using Pandas\n",
        "Pandas provides efficient methods of matrix multiplication using vector operations:"
      ],
      "metadata": {
        "id": "TzRHxhjjY73F"
      },
      "id": "TzRHxhjjY73F"
    },
    {
      "cell_type": "code",
      "source": [
        "df = pd.DataFrame([[0, 1], [-2, -1], [1, 3], [1, 1]], columns=['col1', 'col2'])\n",
        "print(df)"
      ],
      "metadata": {
        "colab": {
          "base_uri": "https://localhost:8080/"
        },
        "id": "1cUUoxOcY-fz",
        "outputId": "a07fc0cc-215d-4c4e-e76d-62a28a4409db"
      },
      "id": "1cUUoxOcY-fz",
      "execution_count": 185,
      "outputs": [
        {
          "output_type": "stream",
          "name": "stdout",
          "text": [
            "   col1  col2\n",
            "0     0     1\n",
            "1    -2    -1\n",
            "2     1     3\n",
            "3     1     1\n"
          ]
        }
      ]
    },
    {
      "cell_type": "code",
      "source": [
        "s = pd.Series({'col1': 1, 'col2': 2})\n",
        "print(df.dot(s))"
      ],
      "metadata": {
        "colab": {
          "base_uri": "https://localhost:8080/"
        },
        "id": "HNj9bbNHdUkt",
        "outputId": "1ff5325c-2fc0-45ef-85de-384c0dbca6fd"
      },
      "id": "HNj9bbNHdUkt",
      "execution_count": 186,
      "outputs": [
        {
          "output_type": "stream",
          "name": "stdout",
          "text": [
            "0    2\n",
            "1   -4\n",
            "2    7\n",
            "3    3\n",
            "dtype: int64\n"
          ]
        }
      ]
    },
    {
      "cell_type": "code",
      "source": [
        "# Different ways to perform simple operations\n",
        "print(df+df)\n",
        "print()\n",
        "print(df.add(df))"
      ],
      "metadata": {
        "colab": {
          "base_uri": "https://localhost:8080/"
        },
        "id": "Ih6qWEniacSC",
        "outputId": "b75e6ca1-14ea-4104-de17-42b1d1e0e72a"
      },
      "id": "Ih6qWEniacSC",
      "execution_count": 187,
      "outputs": [
        {
          "output_type": "stream",
          "name": "stdout",
          "text": [
            "   col1  col2\n",
            "0     0     2\n",
            "1    -4    -2\n",
            "2     2     6\n",
            "3     2     2\n",
            "\n",
            "   col1  col2\n",
            "0     0     2\n",
            "1    -4    -2\n",
            "2     2     6\n",
            "3     2     2\n"
          ]
        }
      ]
    },
    {
      "cell_type": "code",
      "source": [
        "# add, sub, mul, div, mod, pow are equivalent to arithmetic operators: +, -, *, /, //, %, **\n",
        "\n",
        "#Element-wise multiplication df * x\n",
        "df.mul(df)"
      ],
      "metadata": {
        "colab": {
          "base_uri": "https://localhost:8080/",
          "height": 175
        },
        "id": "V2Utu4nBdZtq",
        "outputId": "ccf9bca9-847e-42a3-8666-96fa258430b6"
      },
      "id": "V2Utu4nBdZtq",
      "execution_count": 188,
      "outputs": [
        {
          "output_type": "execute_result",
          "data": {
            "text/plain": [
              "   col1  col2\n",
              "0     0     1\n",
              "1     4     1\n",
              "2     1     9\n",
              "3     1     1"
            ],
            "text/html": [
              "\n",
              "  <div id=\"df-1ac7deed-9e5d-453b-87fd-ad06aa0a808d\">\n",
              "    <div class=\"colab-df-container\">\n",
              "      <div>\n",
              "<style scoped>\n",
              "    .dataframe tbody tr th:only-of-type {\n",
              "        vertical-align: middle;\n",
              "    }\n",
              "\n",
              "    .dataframe tbody tr th {\n",
              "        vertical-align: top;\n",
              "    }\n",
              "\n",
              "    .dataframe thead th {\n",
              "        text-align: right;\n",
              "    }\n",
              "</style>\n",
              "<table border=\"1\" class=\"dataframe\">\n",
              "  <thead>\n",
              "    <tr style=\"text-align: right;\">\n",
              "      <th></th>\n",
              "      <th>col1</th>\n",
              "      <th>col2</th>\n",
              "    </tr>\n",
              "  </thead>\n",
              "  <tbody>\n",
              "    <tr>\n",
              "      <th>0</th>\n",
              "      <td>0</td>\n",
              "      <td>1</td>\n",
              "    </tr>\n",
              "    <tr>\n",
              "      <th>1</th>\n",
              "      <td>4</td>\n",
              "      <td>1</td>\n",
              "    </tr>\n",
              "    <tr>\n",
              "      <th>2</th>\n",
              "      <td>1</td>\n",
              "      <td>9</td>\n",
              "    </tr>\n",
              "    <tr>\n",
              "      <th>3</th>\n",
              "      <td>1</td>\n",
              "      <td>1</td>\n",
              "    </tr>\n",
              "  </tbody>\n",
              "</table>\n",
              "</div>\n",
              "      <button class=\"colab-df-convert\" onclick=\"convertToInteractive('df-1ac7deed-9e5d-453b-87fd-ad06aa0a808d')\"\n",
              "              title=\"Convert this dataframe to an interactive table.\"\n",
              "              style=\"display:none;\">\n",
              "        \n",
              "  <svg xmlns=\"http://www.w3.org/2000/svg\" height=\"24px\"viewBox=\"0 0 24 24\"\n",
              "       width=\"24px\">\n",
              "    <path d=\"M0 0h24v24H0V0z\" fill=\"none\"/>\n",
              "    <path d=\"M18.56 5.44l.94 2.06.94-2.06 2.06-.94-2.06-.94-.94-2.06-.94 2.06-2.06.94zm-11 1L8.5 8.5l.94-2.06 2.06-.94-2.06-.94L8.5 2.5l-.94 2.06-2.06.94zm10 10l.94 2.06.94-2.06 2.06-.94-2.06-.94-.94-2.06-.94 2.06-2.06.94z\"/><path d=\"M17.41 7.96l-1.37-1.37c-.4-.4-.92-.59-1.43-.59-.52 0-1.04.2-1.43.59L10.3 9.45l-7.72 7.72c-.78.78-.78 2.05 0 2.83L4 21.41c.39.39.9.59 1.41.59.51 0 1.02-.2 1.41-.59l7.78-7.78 2.81-2.81c.8-.78.8-2.07 0-2.86zM5.41 20L4 18.59l7.72-7.72 1.47 1.35L5.41 20z\"/>\n",
              "  </svg>\n",
              "      </button>\n",
              "      \n",
              "  <style>\n",
              "    .colab-df-container {\n",
              "      display:flex;\n",
              "      flex-wrap:wrap;\n",
              "      gap: 12px;\n",
              "    }\n",
              "\n",
              "    .colab-df-convert {\n",
              "      background-color: #E8F0FE;\n",
              "      border: none;\n",
              "      border-radius: 50%;\n",
              "      cursor: pointer;\n",
              "      display: none;\n",
              "      fill: #1967D2;\n",
              "      height: 32px;\n",
              "      padding: 0 0 0 0;\n",
              "      width: 32px;\n",
              "    }\n",
              "\n",
              "    .colab-df-convert:hover {\n",
              "      background-color: #E2EBFA;\n",
              "      box-shadow: 0px 1px 2px rgba(60, 64, 67, 0.3), 0px 1px 3px 1px rgba(60, 64, 67, 0.15);\n",
              "      fill: #174EA6;\n",
              "    }\n",
              "\n",
              "    [theme=dark] .colab-df-convert {\n",
              "      background-color: #3B4455;\n",
              "      fill: #D2E3FC;\n",
              "    }\n",
              "\n",
              "    [theme=dark] .colab-df-convert:hover {\n",
              "      background-color: #434B5C;\n",
              "      box-shadow: 0px 1px 3px 1px rgba(0, 0, 0, 0.15);\n",
              "      filter: drop-shadow(0px 1px 2px rgba(0, 0, 0, 0.3));\n",
              "      fill: #FFFFFF;\n",
              "    }\n",
              "  </style>\n",
              "\n",
              "      <script>\n",
              "        const buttonEl =\n",
              "          document.querySelector('#df-1ac7deed-9e5d-453b-87fd-ad06aa0a808d button.colab-df-convert');\n",
              "        buttonEl.style.display =\n",
              "          google.colab.kernel.accessAllowed ? 'block' : 'none';\n",
              "\n",
              "        async function convertToInteractive(key) {\n",
              "          const element = document.querySelector('#df-1ac7deed-9e5d-453b-87fd-ad06aa0a808d');\n",
              "          const dataTable =\n",
              "            await google.colab.kernel.invokeFunction('convertToInteractive',\n",
              "                                                     [key], {});\n",
              "          if (!dataTable) return;\n",
              "\n",
              "          const docLinkHtml = 'Like what you see? Visit the ' +\n",
              "            '<a target=\"_blank\" href=https://colab.research.google.com/notebooks/data_table.ipynb>data table notebook</a>'\n",
              "            + ' to learn more about interactive tables.';\n",
              "          element.innerHTML = '';\n",
              "          dataTable['output_type'] = 'display_data';\n",
              "          await google.colab.output.renderOutput(dataTable, element);\n",
              "          const docLink = document.createElement('div');\n",
              "          docLink.innerHTML = docLinkHtml;\n",
              "          element.appendChild(docLink);\n",
              "        }\n",
              "      </script>\n",
              "    </div>\n",
              "  </div>\n",
              "  "
            ]
          },
          "metadata": {},
          "execution_count": 188
        }
      ]
    },
    {
      "cell_type": "code",
      "source": [
        "#Element-wise division: df / x\n",
        "df.div(2)"
      ],
      "metadata": {
        "colab": {
          "base_uri": "https://localhost:8080/",
          "height": 175
        },
        "id": "AtF_upSzbyVs",
        "outputId": "bcac2352-dd35-4aa3-991e-b323d715acce"
      },
      "id": "AtF_upSzbyVs",
      "execution_count": 189,
      "outputs": [
        {
          "output_type": "execute_result",
          "data": {
            "text/plain": [
              "   col1  col2\n",
              "0   0.0   0.5\n",
              "1  -1.0  -0.5\n",
              "2   0.5   1.5\n",
              "3   0.5   0.5"
            ],
            "text/html": [
              "\n",
              "  <div id=\"df-8494ff4f-0867-4bde-9b03-721294a68350\">\n",
              "    <div class=\"colab-df-container\">\n",
              "      <div>\n",
              "<style scoped>\n",
              "    .dataframe tbody tr th:only-of-type {\n",
              "        vertical-align: middle;\n",
              "    }\n",
              "\n",
              "    .dataframe tbody tr th {\n",
              "        vertical-align: top;\n",
              "    }\n",
              "\n",
              "    .dataframe thead th {\n",
              "        text-align: right;\n",
              "    }\n",
              "</style>\n",
              "<table border=\"1\" class=\"dataframe\">\n",
              "  <thead>\n",
              "    <tr style=\"text-align: right;\">\n",
              "      <th></th>\n",
              "      <th>col1</th>\n",
              "      <th>col2</th>\n",
              "    </tr>\n",
              "  </thead>\n",
              "  <tbody>\n",
              "    <tr>\n",
              "      <th>0</th>\n",
              "      <td>0.0</td>\n",
              "      <td>0.5</td>\n",
              "    </tr>\n",
              "    <tr>\n",
              "      <th>1</th>\n",
              "      <td>-1.0</td>\n",
              "      <td>-0.5</td>\n",
              "    </tr>\n",
              "    <tr>\n",
              "      <th>2</th>\n",
              "      <td>0.5</td>\n",
              "      <td>1.5</td>\n",
              "    </tr>\n",
              "    <tr>\n",
              "      <th>3</th>\n",
              "      <td>0.5</td>\n",
              "      <td>0.5</td>\n",
              "    </tr>\n",
              "  </tbody>\n",
              "</table>\n",
              "</div>\n",
              "      <button class=\"colab-df-convert\" onclick=\"convertToInteractive('df-8494ff4f-0867-4bde-9b03-721294a68350')\"\n",
              "              title=\"Convert this dataframe to an interactive table.\"\n",
              "              style=\"display:none;\">\n",
              "        \n",
              "  <svg xmlns=\"http://www.w3.org/2000/svg\" height=\"24px\"viewBox=\"0 0 24 24\"\n",
              "       width=\"24px\">\n",
              "    <path d=\"M0 0h24v24H0V0z\" fill=\"none\"/>\n",
              "    <path d=\"M18.56 5.44l.94 2.06.94-2.06 2.06-.94-2.06-.94-.94-2.06-.94 2.06-2.06.94zm-11 1L8.5 8.5l.94-2.06 2.06-.94-2.06-.94L8.5 2.5l-.94 2.06-2.06.94zm10 10l.94 2.06.94-2.06 2.06-.94-2.06-.94-.94-2.06-.94 2.06-2.06.94z\"/><path d=\"M17.41 7.96l-1.37-1.37c-.4-.4-.92-.59-1.43-.59-.52 0-1.04.2-1.43.59L10.3 9.45l-7.72 7.72c-.78.78-.78 2.05 0 2.83L4 21.41c.39.39.9.59 1.41.59.51 0 1.02-.2 1.41-.59l7.78-7.78 2.81-2.81c.8-.78.8-2.07 0-2.86zM5.41 20L4 18.59l7.72-7.72 1.47 1.35L5.41 20z\"/>\n",
              "  </svg>\n",
              "      </button>\n",
              "      \n",
              "  <style>\n",
              "    .colab-df-container {\n",
              "      display:flex;\n",
              "      flex-wrap:wrap;\n",
              "      gap: 12px;\n",
              "    }\n",
              "\n",
              "    .colab-df-convert {\n",
              "      background-color: #E8F0FE;\n",
              "      border: none;\n",
              "      border-radius: 50%;\n",
              "      cursor: pointer;\n",
              "      display: none;\n",
              "      fill: #1967D2;\n",
              "      height: 32px;\n",
              "      padding: 0 0 0 0;\n",
              "      width: 32px;\n",
              "    }\n",
              "\n",
              "    .colab-df-convert:hover {\n",
              "      background-color: #E2EBFA;\n",
              "      box-shadow: 0px 1px 2px rgba(60, 64, 67, 0.3), 0px 1px 3px 1px rgba(60, 64, 67, 0.15);\n",
              "      fill: #174EA6;\n",
              "    }\n",
              "\n",
              "    [theme=dark] .colab-df-convert {\n",
              "      background-color: #3B4455;\n",
              "      fill: #D2E3FC;\n",
              "    }\n",
              "\n",
              "    [theme=dark] .colab-df-convert:hover {\n",
              "      background-color: #434B5C;\n",
              "      box-shadow: 0px 1px 3px 1px rgba(0, 0, 0, 0.15);\n",
              "      filter: drop-shadow(0px 1px 2px rgba(0, 0, 0, 0.3));\n",
              "      fill: #FFFFFF;\n",
              "    }\n",
              "  </style>\n",
              "\n",
              "      <script>\n",
              "        const buttonEl =\n",
              "          document.querySelector('#df-8494ff4f-0867-4bde-9b03-721294a68350 button.colab-df-convert');\n",
              "        buttonEl.style.display =\n",
              "          google.colab.kernel.accessAllowed ? 'block' : 'none';\n",
              "\n",
              "        async function convertToInteractive(key) {\n",
              "          const element = document.querySelector('#df-8494ff4f-0867-4bde-9b03-721294a68350');\n",
              "          const dataTable =\n",
              "            await google.colab.kernel.invokeFunction('convertToInteractive',\n",
              "                                                     [key], {});\n",
              "          if (!dataTable) return;\n",
              "\n",
              "          const docLinkHtml = 'Like what you see? Visit the ' +\n",
              "            '<a target=\"_blank\" href=https://colab.research.google.com/notebooks/data_table.ipynb>data table notebook</a>'\n",
              "            + ' to learn more about interactive tables.';\n",
              "          element.innerHTML = '';\n",
              "          dataTable['output_type'] = 'display_data';\n",
              "          await google.colab.output.renderOutput(dataTable, element);\n",
              "          const docLink = document.createElement('div');\n",
              "          docLink.innerHTML = docLinkHtml;\n",
              "          element.appendChild(docLink);\n",
              "        }\n",
              "      </script>\n",
              "    </div>\n",
              "  </div>\n",
              "  "
            ]
          },
          "metadata": {},
          "execution_count": 189
        }
      ]
    },
    {
      "cell_type": "code",
      "source": [
        "#Element-wise division: x / df\n",
        "df.rdiv(2)"
      ],
      "metadata": {
        "colab": {
          "base_uri": "https://localhost:8080/",
          "height": 175
        },
        "id": "paZdrfNDdPpY",
        "outputId": "3c0edf7c-95b8-4246-b790-7d672f42ba75"
      },
      "id": "paZdrfNDdPpY",
      "execution_count": 190,
      "outputs": [
        {
          "output_type": "execute_result",
          "data": {
            "text/plain": [
              "   col1      col2\n",
              "0   inf  2.000000\n",
              "1  -1.0 -2.000000\n",
              "2   2.0  0.666667\n",
              "3   2.0  2.000000"
            ],
            "text/html": [
              "\n",
              "  <div id=\"df-2bc09906-83a7-4e7b-8a39-90a85d6c5ddf\">\n",
              "    <div class=\"colab-df-container\">\n",
              "      <div>\n",
              "<style scoped>\n",
              "    .dataframe tbody tr th:only-of-type {\n",
              "        vertical-align: middle;\n",
              "    }\n",
              "\n",
              "    .dataframe tbody tr th {\n",
              "        vertical-align: top;\n",
              "    }\n",
              "\n",
              "    .dataframe thead th {\n",
              "        text-align: right;\n",
              "    }\n",
              "</style>\n",
              "<table border=\"1\" class=\"dataframe\">\n",
              "  <thead>\n",
              "    <tr style=\"text-align: right;\">\n",
              "      <th></th>\n",
              "      <th>col1</th>\n",
              "      <th>col2</th>\n",
              "    </tr>\n",
              "  </thead>\n",
              "  <tbody>\n",
              "    <tr>\n",
              "      <th>0</th>\n",
              "      <td>inf</td>\n",
              "      <td>2.000000</td>\n",
              "    </tr>\n",
              "    <tr>\n",
              "      <th>1</th>\n",
              "      <td>-1.0</td>\n",
              "      <td>-2.000000</td>\n",
              "    </tr>\n",
              "    <tr>\n",
              "      <th>2</th>\n",
              "      <td>2.0</td>\n",
              "      <td>0.666667</td>\n",
              "    </tr>\n",
              "    <tr>\n",
              "      <th>3</th>\n",
              "      <td>2.0</td>\n",
              "      <td>2.000000</td>\n",
              "    </tr>\n",
              "  </tbody>\n",
              "</table>\n",
              "</div>\n",
              "      <button class=\"colab-df-convert\" onclick=\"convertToInteractive('df-2bc09906-83a7-4e7b-8a39-90a85d6c5ddf')\"\n",
              "              title=\"Convert this dataframe to an interactive table.\"\n",
              "              style=\"display:none;\">\n",
              "        \n",
              "  <svg xmlns=\"http://www.w3.org/2000/svg\" height=\"24px\"viewBox=\"0 0 24 24\"\n",
              "       width=\"24px\">\n",
              "    <path d=\"M0 0h24v24H0V0z\" fill=\"none\"/>\n",
              "    <path d=\"M18.56 5.44l.94 2.06.94-2.06 2.06-.94-2.06-.94-.94-2.06-.94 2.06-2.06.94zm-11 1L8.5 8.5l.94-2.06 2.06-.94-2.06-.94L8.5 2.5l-.94 2.06-2.06.94zm10 10l.94 2.06.94-2.06 2.06-.94-2.06-.94-.94-2.06-.94 2.06-2.06.94z\"/><path d=\"M17.41 7.96l-1.37-1.37c-.4-.4-.92-.59-1.43-.59-.52 0-1.04.2-1.43.59L10.3 9.45l-7.72 7.72c-.78.78-.78 2.05 0 2.83L4 21.41c.39.39.9.59 1.41.59.51 0 1.02-.2 1.41-.59l7.78-7.78 2.81-2.81c.8-.78.8-2.07 0-2.86zM5.41 20L4 18.59l7.72-7.72 1.47 1.35L5.41 20z\"/>\n",
              "  </svg>\n",
              "      </button>\n",
              "      \n",
              "  <style>\n",
              "    .colab-df-container {\n",
              "      display:flex;\n",
              "      flex-wrap:wrap;\n",
              "      gap: 12px;\n",
              "    }\n",
              "\n",
              "    .colab-df-convert {\n",
              "      background-color: #E8F0FE;\n",
              "      border: none;\n",
              "      border-radius: 50%;\n",
              "      cursor: pointer;\n",
              "      display: none;\n",
              "      fill: #1967D2;\n",
              "      height: 32px;\n",
              "      padding: 0 0 0 0;\n",
              "      width: 32px;\n",
              "    }\n",
              "\n",
              "    .colab-df-convert:hover {\n",
              "      background-color: #E2EBFA;\n",
              "      box-shadow: 0px 1px 2px rgba(60, 64, 67, 0.3), 0px 1px 3px 1px rgba(60, 64, 67, 0.15);\n",
              "      fill: #174EA6;\n",
              "    }\n",
              "\n",
              "    [theme=dark] .colab-df-convert {\n",
              "      background-color: #3B4455;\n",
              "      fill: #D2E3FC;\n",
              "    }\n",
              "\n",
              "    [theme=dark] .colab-df-convert:hover {\n",
              "      background-color: #434B5C;\n",
              "      box-shadow: 0px 1px 3px 1px rgba(0, 0, 0, 0.15);\n",
              "      filter: drop-shadow(0px 1px 2px rgba(0, 0, 0, 0.3));\n",
              "      fill: #FFFFFF;\n",
              "    }\n",
              "  </style>\n",
              "\n",
              "      <script>\n",
              "        const buttonEl =\n",
              "          document.querySelector('#df-2bc09906-83a7-4e7b-8a39-90a85d6c5ddf button.colab-df-convert');\n",
              "        buttonEl.style.display =\n",
              "          google.colab.kernel.accessAllowed ? 'block' : 'none';\n",
              "\n",
              "        async function convertToInteractive(key) {\n",
              "          const element = document.querySelector('#df-2bc09906-83a7-4e7b-8a39-90a85d6c5ddf');\n",
              "          const dataTable =\n",
              "            await google.colab.kernel.invokeFunction('convertToInteractive',\n",
              "                                                     [key], {});\n",
              "          if (!dataTable) return;\n",
              "\n",
              "          const docLinkHtml = 'Like what you see? Visit the ' +\n",
              "            '<a target=\"_blank\" href=https://colab.research.google.com/notebooks/data_table.ipynb>data table notebook</a>'\n",
              "            + ' to learn more about interactive tables.';\n",
              "          element.innerHTML = '';\n",
              "          dataTable['output_type'] = 'display_data';\n",
              "          await google.colab.output.renderOutput(dataTable, element);\n",
              "          const docLink = document.createElement('div');\n",
              "          docLink.innerHTML = docLinkHtml;\n",
              "          element.appendChild(docLink);\n",
              "        }\n",
              "      </script>\n",
              "    </div>\n",
              "  </div>\n",
              "  "
            ]
          },
          "metadata": {},
          "execution_count": 190
        }
      ]
    }
  ],
  "metadata": {
    "kernelspec": {
      "display_name": "Python 3 (ipykernel)",
      "language": "python",
      "name": "python3"
    },
    "language_info": {
      "codemirror_mode": {
        "name": "ipython",
        "version": 3
      },
      "file_extension": ".py",
      "mimetype": "text/x-python",
      "name": "python",
      "nbconvert_exporter": "python",
      "pygments_lexer": "ipython3",
      "version": "3.9.12"
    },
    "colab": {
      "provenance": [],
      "toc_visible": true
    }
  },
  "nbformat": 4,
  "nbformat_minor": 5
}