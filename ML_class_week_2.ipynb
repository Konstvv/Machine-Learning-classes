{
  "cells": [
    {
      "cell_type": "markdown",
      "id": "963e3321",
      "metadata": {
        "id": "963e3321"
      },
      "source": [
        "# Week 2\n",
        "### Data preprocessing for ML applications\n",
        "\n",
        "During this class we will cover several basic steps of data treatment and preprocessing in order to use it for future Machine Learning models:\n",
        "\n",
        "1. Choosing and retrieving the dataset\n",
        "2. Importing the libraries\n",
        "3. Importing the dataset\n",
        "4. Finding and treating missing data\n",
        "5. Encoding categorical data\n",
        "6. Feature scaling\n",
        "7. Feature selection and dimentionality reduction\n",
        "8. Splitting the dataset: training, validation, and testing"
      ]
    },
    {
      "cell_type": "markdown",
      "id": "329bac6d",
      "metadata": {
        "id": "329bac6d"
      },
      "source": [
        "### Choosing and retrieving the dataset\n",
        "\n",
        "Since every ML model requires data to learn and its performance highly depends on the training process, it is crucially important to select appropriate information to feed the model into.\n",
        "\n",
        "For any particular task there might be two distinct approaches for data acquisition:\n",
        "* Find an existing dataset with appropriate samples\n",
        "* Create a new dataset from scratch (recordings, polls, data mining, etc.)\n",
        "    \n",
        "Important features of datasets:\n",
        "* Size (How to determine a sufficient number of samples?)\n",
        "* Cleanliness (How many missing values?)\n",
        "* Homogeneity (Are the samples appropriate and correspond to the task?)\n",
        "* Number of features (Is it good to have too many features? Too few?)\n",
        "    \n",
        "Data sources:\n",
        "*  Kaggle\n",
        "*  Google Dataset Search\n",
        "*  Datahub.io\n",
        "*  Subject specific websites and services (e.g., CERN Open Data, NASA Earth Data, etc.)"
      ]
    },
    {
      "cell_type": "markdown",
      "id": "db2f96c3",
      "metadata": {
        "id": "db2f96c3"
      },
      "source": [
        "### Importing the libraries\n",
        "\n",
        "There is a handful of useful libraries in Python that provide an easy way to treat data in a fast and efficient manner. Some popular examples:\n",
        "* Numpy\n",
        "* Pandas\n",
        "* Scikit-learn\n",
        "* Tensorflow / Keras\n",
        "* Pytorch\n",
        "* Jax"
      ]
    },
    {
      "cell_type": "code",
      "source": [
        "import pandas as pd\n",
        "import numpy as np\n",
        "import sklearn"
      ],
      "metadata": {
        "id": "At_hogcja0d9"
      },
      "id": "At_hogcja0d9",
      "execution_count": 191,
      "outputs": []
    },
    {
      "cell_type": "markdown",
      "id": "41a215e4",
      "metadata": {
        "id": "41a215e4"
      },
      "source": [
        "### Importing the dataset"
      ]
    },
    {
      "cell_type": "code",
      "source": [
        "data = pd.read_csv('https://raw.githubusercontent.com/datasciencedojo/datasets/master/titanic.csv')\n",
        "print(data)"
      ],
      "metadata": {
        "id": "lrXBq-IxjTZZ"
      },
      "id": "lrXBq-IxjTZZ",
      "execution_count": null,
      "outputs": []
    },
    {
      "cell_type": "markdown",
      "id": "8922ddf2",
      "metadata": {
        "id": "8922ddf2"
      },
      "source": [
        "### Finding and treating missing data\n",
        "\n",
        "Some samples within a dataset may have incomplete information: some or all the features might be missing. The training process cannot be executed with such missing pieces. Thus, before proceeding to the leaning, one must deal with missing data. There are several strategies that one can think of:\n",
        "* Removing entries with missing features\n",
        "* Removing features that are absent in too many samples\n",
        "* Imputation: filling out the missing fields:\n",
        "    * with the most common value\n",
        "    * with the mean/median of all samples\n",
        "    * with more complex strategies, e.g, Linear Regression, KNN\n",
        "    * using some prior knowledge"
      ]
    },
    {
      "cell_type": "code",
      "source": [
        "# Checking the dataset information\n",
        "data.info()"
      ],
      "metadata": {
        "id": "WYxl8Ke4jWhG"
      },
      "id": "WYxl8Ke4jWhG",
      "execution_count": null,
      "outputs": []
    },
    {
      "cell_type": "code",
      "source": [
        "# Dropping the columns that do not contain useful information \n",
        "data.drop(labels=['PassengerId', 'Ticket'], axis=1, inplace=True)"
      ],
      "metadata": {
        "id": "4D0GUYGcjZZj"
      },
      "id": "4D0GUYGcjZZj",
      "execution_count": 194,
      "outputs": []
    },
    {
      "cell_type": "code",
      "source": [
        "# The \"embarked\" feature\n",
        "\n",
        "# Let's check enrties with NaN\n",
        "\n",
        "data[data['Embarked'].isnull()]"
      ],
      "metadata": {
        "id": "QmyMm0OIkhxc"
      },
      "id": "QmyMm0OIkhxc",
      "execution_count": null,
      "outputs": []
    },
    {
      "cell_type": "code",
      "source": [
        "# Checking what value is the most frequent one\n",
        "data['Embarked'].value_counts()"
      ],
      "metadata": {
        "id": "oRHgPvyXmvQv"
      },
      "id": "oRHgPvyXmvQv",
      "execution_count": null,
      "outputs": []
    },
    {
      "cell_type": "code",
      "source": [
        "# Filling NaNs with the most frequent value\n",
        "data['Embarked'].fillna('S', inplace=True)\n",
        "print(data)"
      ],
      "metadata": {
        "id": "qAlO-EbXm9W1"
      },
      "id": "qAlO-EbXm9W1",
      "execution_count": null,
      "outputs": []
    },
    {
      "cell_type": "code",
      "source": [
        "# One of the ways to impute the numerical feature: filling out with the median\n",
        "data['Age'].median()"
      ],
      "metadata": {
        "id": "i25frpgJuPSb"
      },
      "id": "i25frpgJuPSb",
      "execution_count": null,
      "outputs": []
    },
    {
      "cell_type": "code",
      "source": [
        "from sklearn.impute import SimpleImputer\n",
        "\n",
        "fea_transformer = SimpleImputer(strategy=\"median\")\n",
        "values = fea_transformer.fit_transform(data[[\"Age\"]])\n",
        "print(pd.DataFrame(values))"
      ],
      "metadata": {
        "id": "PRO2pQtjstfm"
      },
      "id": "PRO2pQtjstfm",
      "execution_count": null,
      "outputs": []
    },
    {
      "cell_type": "code",
      "source": [
        "# KNN imputation (Later on in the code)\n",
        "\n",
        "# from sklearn.impute import KNNImputer\n",
        "\n",
        "# fea_transformer = KNNImputer(n_neighbors=3)\n",
        "# data[\"Age\"] = fea_transformer.fit_transform(data[[\"Age\"]]).astype(float)\n",
        "# print(data)"
      ],
      "metadata": {
        "id": "th5GGKpzoG49"
      },
      "id": "th5GGKpzoG49",
      "execution_count": 200,
      "outputs": []
    },
    {
      "cell_type": "code",
      "source": [
        "print(data.info())"
      ],
      "metadata": {
        "id": "F0HCpZsZsoLC"
      },
      "id": "F0HCpZsZsoLC",
      "execution_count": null,
      "outputs": []
    },
    {
      "cell_type": "markdown",
      "id": "fd409da6",
      "metadata": {
        "id": "fd409da6"
      },
      "source": [
        "### Encoding categorical data\n",
        "\n",
        "Some features in a dataset might be represented as values in a discrete set of categories (e.g., 'Sex', 'Embarked')\n",
        "In order to process such features one has to encode them in order to convert a categorical set (usually, strings) into a set of numerical values."
      ]
    },
    {
      "cell_type": "code",
      "source": [
        "#What is the simplest numerical encoding?\n",
        "pd.get_dummies(data, columns = ['Embarked']).head()"
      ],
      "metadata": {
        "id": "TlVNVeEEvD1y"
      },
      "id": "TlVNVeEEvD1y",
      "execution_count": null,
      "outputs": []
    },
    {
      "cell_type": "code",
      "source": [
        "#Using LabelEncoder to transform categorical features\n",
        "from sklearn.preprocessing import LabelEncoder\n",
        "le = LabelEncoder()\n",
        "data['Embarked'] = le.fit_transform(data['Embarked'])\n",
        "print(data)"
      ],
      "metadata": {
        "id": "QJD0_hd5wY8w"
      },
      "id": "QJD0_hd5wY8w",
      "execution_count": null,
      "outputs": []
    },
    {
      "cell_type": "code",
      "source": [
        "data['Sex'] = le.fit_transform(data['Sex'])\n",
        "print(data)"
      ],
      "metadata": {
        "id": "6KgIQQQ5xaUx"
      },
      "id": "6KgIQQQ5xaUx",
      "execution_count": null,
      "outputs": []
    },
    {
      "cell_type": "code",
      "source": [
        "#Let's use only deck instead of the cabin because of many missing values\n",
        "def cabin_replace(cabin):\n",
        "  cabin_list = ['A', 'B', 'C', 'D', 'E', 'F', 'T', 'G']\n",
        "  for substring in cabin_list:\n",
        "    if substring in str(cabin):\n",
        "      return substring\n",
        "  return np.nan\n",
        "\n",
        "data['Cabin'] = data['Cabin'].apply(cabin_replace)\n",
        "print(data)"
      ],
      "metadata": {
        "id": "FoFsQSrUOB5g"
      },
      "id": "FoFsQSrUOB5g",
      "execution_count": null,
      "outputs": []
    },
    {
      "cell_type": "code",
      "source": [
        "data['Cabin'] = le.fit_transform(data['Cabin'])\n",
        "print(data)"
      ],
      "metadata": {
        "id": "nXM4I7tMPmsU"
      },
      "id": "nXM4I7tMPmsU",
      "execution_count": null,
      "outputs": []
    },
    {
      "cell_type": "code",
      "source": [
        "# Name itself is not useful: we can extract only titles\n",
        "def get_title(string):\n",
        "    import re\n",
        "    regex = re.compile(r'Mr|Don|Major|Capt|Jonkheer|Rev|Col|Dr|Mrs|Countess|Dona|Mme|Ms|Miss|Mlle|Master', re.IGNORECASE)\n",
        "    results = regex.search(string)\n",
        "    if results != None:\n",
        "        return(results.group().lower())\n",
        "    else:\n",
        "        return np.nan\n",
        "\n",
        "data['Name'] = data['Name'].apply(get_title)\n",
        "data['Name'] = le.fit_transform(data['Name'])\n",
        "print(data)"
      ],
      "metadata": {
        "id": "71AkAp3fRJiW"
      },
      "id": "71AkAp3fRJiW",
      "execution_count": null,
      "outputs": []
    },
    {
      "cell_type": "code",
      "source": [
        "# Going back to filling out the missing data with KNNImputer\n",
        "from sklearn.impute import KNNImputer\n",
        "\n",
        "fea_transformer = KNNImputer(n_neighbors=3)\n",
        "data[\"Age\"] = fea_transformer.fit_transform(data[[\"Age\"]]).astype(float)\n",
        "print(data)"
      ],
      "metadata": {
        "id": "XrTfC2wzVKdU"
      },
      "id": "XrTfC2wzVKdU",
      "execution_count": null,
      "outputs": []
    },
    {
      "cell_type": "markdown",
      "id": "e099fa5d",
      "metadata": {
        "id": "e099fa5d"
      },
      "source": [
        "### Feature scaling\n",
        "\n",
        "* Standartization\n",
        "\n",
        "$X_{standard} = \\frac{x - x_{mean}}{\\sigma_x}$\n",
        "\n",
        "This operation brings all the distributions to the same form. If we assume that our random distribution is Gaussian, this operation allows us to have the same $\\mu=0$ and $\\sigma=1$ for all the features"
      ]
    },
    {
      "cell_type": "code",
      "source": [
        "print((data-data.mean())/data.std())"
      ],
      "metadata": {
        "id": "gYH8IoDeSgKl"
      },
      "id": "gYH8IoDeSgKl",
      "execution_count": null,
      "outputs": []
    },
    {
      "cell_type": "markdown",
      "source": [
        "* Normalization\n",
        "\n",
        "$X_{normalized} = \\frac{x - x_{min}}{x_{max} - x_{min}}$\n",
        "\n",
        "This operation scales all the features to the same interval [0, 1] (or [-1, 1] in some cases)"
      ],
      "metadata": {
        "id": "TWhK8OudSfal"
      },
      "id": "TWhK8OudSfal"
    },
    {
      "cell_type": "code",
      "source": [
        "print((data-data.min())/(data.max()-data.min()))"
      ],
      "metadata": {
        "id": "JTbRvbMSMZlQ"
      },
      "id": "JTbRvbMSMZlQ",
      "execution_count": null,
      "outputs": []
    },
    {
      "cell_type": "markdown",
      "source": [
        "Scikit-learn tools for normalization and standartization are MinMaxScaler and StandardScaler respectively.\n",
        "\n",
        "Why would we want to use Standartization with this data?\n",
        "\n",
        "Why would we want to use Normalization with this data?"
      ],
      "metadata": {
        "id": "HRIcIRmG7pzO"
      },
      "id": "HRIcIRmG7pzO"
    },
    {
      "cell_type": "markdown",
      "source": [
        "In the following example we will proceed with the normalization:"
      ],
      "metadata": {
        "id": "ehre-bbkTzQN"
      },
      "id": "ehre-bbkTzQN"
    },
    {
      "cell_type": "code",
      "source": [
        "data = (data-data.min())/(data.max()-data.min())"
      ],
      "metadata": {
        "id": "eAntNdd9T37n"
      },
      "id": "eAntNdd9T37n",
      "execution_count": null,
      "outputs": []
    },
    {
      "cell_type": "markdown",
      "source": [
        "### Feature selection and dimentionality reduction"
      ],
      "metadata": {
        "id": "hec767qrUOZ5"
      },
      "id": "hec767qrUOZ5"
    },
    {
      "cell_type": "code",
      "source": [
        "import matplotlib.pyplot as plt\n",
        "\n",
        "a = data.corr()\n",
        "print(a)\n",
        "fig, ax = plt.subplots(figsize=(9, 9))\n",
        "heatmap = ax.imshow(a, cmap='gray_r', interpolation='nearest')\n",
        "ax.set_yticks(range(len(a.index.values)))\n",
        "ax.set_yticklabels(a.index.values)\n",
        "ax.set_xticks(range(len(a.index.values)))\n",
        "ax.set_xticklabels(a.index.values)\n",
        "plt.colorbar(heatmap)\n",
        "plt.show()"
      ],
      "metadata": {
        "id": "cGE-uj-nUP8K"
      },
      "id": "cGE-uj-nUP8K",
      "execution_count": null,
      "outputs": []
    },
    {
      "cell_type": "code",
      "source": [
        "data['Family_size'] = data['SibSp'] + data['Parch']\n",
        "data.drop(labels=['SibSp', 'Parch', 'Cabin'], axis=1, inplace=True)\n",
        "print(data)"
      ],
      "metadata": {
        "id": "DuKvTwQFWsqn"
      },
      "id": "DuKvTwQFWsqn",
      "execution_count": null,
      "outputs": []
    },
    {
      "cell_type": "markdown",
      "source": [
        "### Splitting the dataset: training, validation, and testing"
      ],
      "metadata": {
        "collapsed": false,
        "id": "6lGNnZLVQ56e"
      },
      "id": "6lGNnZLVQ56e"
    },
    {
      "cell_type": "code",
      "execution_count": 183,
      "id": "2c9fd6a9",
      "metadata": {
        "pycharm": {
          "is_executing": true
        },
        "id": "2c9fd6a9"
      },
      "outputs": [],
      "source": [
        "X = data.drop('Survived', axis=1)\n",
        "y = data['Survived']\n",
        "\n",
        "# Standard train/test split\n",
        "X_train, X_test, y_train, y_test = sklearn.model_selection.train_test_split(X, y, test_size=0.2)\n",
        "\n",
        "# Train/test/validation split\n",
        "X_train_val, X_test, y_train_val, y_test = sklearn.model_selection.train_test_split(X, y, test_size=0.2)\n",
        "X_train, X_val, y_train, y_test_val = sklearn.model_selection.train_test_split(X_train_val, y_train_val, test_size=0.25)"
      ]
    },
    {
      "cell_type": "code",
      "source": [
        "print(X_train, y_train)"
      ],
      "metadata": {
        "id": "e7gQm1YpY2UH"
      },
      "id": "e7gQm1YpY2UH",
      "execution_count": null,
      "outputs": []
    },
    {
      "cell_type": "markdown",
      "source": [
        "### Matrix manipulation using Pandas\n",
        "Pandas provides efficient methods of matrix multiplication using vector operations:"
      ],
      "metadata": {
        "id": "TzRHxhjjY73F"
      },
      "id": "TzRHxhjjY73F"
    },
    {
      "cell_type": "code",
      "source": [
        "df = pd.DataFrame([[0, 1], [-2, -1], [1, 3], [1, 1]], columns=['col1', 'col2'])\n",
        "print(df)"
      ],
      "metadata": {
        "colab": {
          "base_uri": "https://localhost:8080/"
        },
        "id": "1cUUoxOcY-fz",
        "outputId": "7804a80f-4a7b-4795-e559-f799dd507ead"
      },
      "id": "1cUUoxOcY-fz",
      "execution_count": 212,
      "outputs": [
        {
          "output_type": "stream",
          "name": "stdout",
          "text": [
            "   col1  col2\n",
            "0     0     1\n",
            "1    -2    -1\n",
            "2     1     3\n",
            "3     1     1\n"
          ]
        }
      ]
    },
    {
      "cell_type": "code",
      "source": [
        "s = pd.Series({'col1': 1, 'col2': 2})\n",
        "print(df.dot(s))"
      ],
      "metadata": {
        "colab": {
          "base_uri": "https://localhost:8080/"
        },
        "id": "HNj9bbNHdUkt",
        "outputId": "0cd0d5c3-f0aa-499c-99ab-a1f3f29b88de"
      },
      "id": "HNj9bbNHdUkt",
      "execution_count": 213,
      "outputs": [
        {
          "output_type": "stream",
          "name": "stdout",
          "text": [
            "0    2\n",
            "1   -4\n",
            "2    7\n",
            "3    3\n",
            "dtype: int64\n"
          ]
        }
      ]
    },
    {
      "cell_type": "code",
      "source": [
        "# Different ways to perform simple operations\n",
        "print(df+df)\n",
        "print()\n",
        "print(df.add(df))"
      ],
      "metadata": {
        "colab": {
          "base_uri": "https://localhost:8080/"
        },
        "id": "Ih6qWEniacSC",
        "outputId": "df8d7144-9768-4566-935a-c81a3dfac835"
      },
      "id": "Ih6qWEniacSC",
      "execution_count": 214,
      "outputs": [
        {
          "output_type": "stream",
          "name": "stdout",
          "text": [
            "   col1  col2\n",
            "0     0     2\n",
            "1    -4    -2\n",
            "2     2     6\n",
            "3     2     2\n",
            "\n",
            "   col1  col2\n",
            "0     0     2\n",
            "1    -4    -2\n",
            "2     2     6\n",
            "3     2     2\n"
          ]
        }
      ]
    },
    {
      "cell_type": "code",
      "source": [
        "# add, sub, mul, div, mod, pow are equivalent to arithmetic operators: +, -, *, /, //, %, **\n",
        "\n",
        "#Element-wise multiplication df * x\n",
        "\n",
        "df.mul(df)\n",
        "# df * df"
      ],
      "metadata": {
        "colab": {
          "base_uri": "https://localhost:8080/",
          "height": 175
        },
        "id": "V2Utu4nBdZtq",
        "outputId": "483a5c6a-7964-4094-da3d-0a9f54733698"
      },
      "id": "V2Utu4nBdZtq",
      "execution_count": 216,
      "outputs": [
        {
          "output_type": "execute_result",
          "data": {
            "text/plain": [
              "   col1  col2\n",
              "0     0     1\n",
              "1     4     1\n",
              "2     1     9\n",
              "3     1     1"
            ],
            "text/html": [
              "\n",
              "  <div id=\"df-0ef7b294-4c06-452f-9eaa-4e85f1ecf794\">\n",
              "    <div class=\"colab-df-container\">\n",
              "      <div>\n",
              "<style scoped>\n",
              "    .dataframe tbody tr th:only-of-type {\n",
              "        vertical-align: middle;\n",
              "    }\n",
              "\n",
              "    .dataframe tbody tr th {\n",
              "        vertical-align: top;\n",
              "    }\n",
              "\n",
              "    .dataframe thead th {\n",
              "        text-align: right;\n",
              "    }\n",
              "</style>\n",
              "<table border=\"1\" class=\"dataframe\">\n",
              "  <thead>\n",
              "    <tr style=\"text-align: right;\">\n",
              "      <th></th>\n",
              "      <th>col1</th>\n",
              "      <th>col2</th>\n",
              "    </tr>\n",
              "  </thead>\n",
              "  <tbody>\n",
              "    <tr>\n",
              "      <th>0</th>\n",
              "      <td>0</td>\n",
              "      <td>1</td>\n",
              "    </tr>\n",
              "    <tr>\n",
              "      <th>1</th>\n",
              "      <td>4</td>\n",
              "      <td>1</td>\n",
              "    </tr>\n",
              "    <tr>\n",
              "      <th>2</th>\n",
              "      <td>1</td>\n",
              "      <td>9</td>\n",
              "    </tr>\n",
              "    <tr>\n",
              "      <th>3</th>\n",
              "      <td>1</td>\n",
              "      <td>1</td>\n",
              "    </tr>\n",
              "  </tbody>\n",
              "</table>\n",
              "</div>\n",
              "      <button class=\"colab-df-convert\" onclick=\"convertToInteractive('df-0ef7b294-4c06-452f-9eaa-4e85f1ecf794')\"\n",
              "              title=\"Convert this dataframe to an interactive table.\"\n",
              "              style=\"display:none;\">\n",
              "        \n",
              "  <svg xmlns=\"http://www.w3.org/2000/svg\" height=\"24px\"viewBox=\"0 0 24 24\"\n",
              "       width=\"24px\">\n",
              "    <path d=\"M0 0h24v24H0V0z\" fill=\"none\"/>\n",
              "    <path d=\"M18.56 5.44l.94 2.06.94-2.06 2.06-.94-2.06-.94-.94-2.06-.94 2.06-2.06.94zm-11 1L8.5 8.5l.94-2.06 2.06-.94-2.06-.94L8.5 2.5l-.94 2.06-2.06.94zm10 10l.94 2.06.94-2.06 2.06-.94-2.06-.94-.94-2.06-.94 2.06-2.06.94z\"/><path d=\"M17.41 7.96l-1.37-1.37c-.4-.4-.92-.59-1.43-.59-.52 0-1.04.2-1.43.59L10.3 9.45l-7.72 7.72c-.78.78-.78 2.05 0 2.83L4 21.41c.39.39.9.59 1.41.59.51 0 1.02-.2 1.41-.59l7.78-7.78 2.81-2.81c.8-.78.8-2.07 0-2.86zM5.41 20L4 18.59l7.72-7.72 1.47 1.35L5.41 20z\"/>\n",
              "  </svg>\n",
              "      </button>\n",
              "      \n",
              "  <style>\n",
              "    .colab-df-container {\n",
              "      display:flex;\n",
              "      flex-wrap:wrap;\n",
              "      gap: 12px;\n",
              "    }\n",
              "\n",
              "    .colab-df-convert {\n",
              "      background-color: #E8F0FE;\n",
              "      border: none;\n",
              "      border-radius: 50%;\n",
              "      cursor: pointer;\n",
              "      display: none;\n",
              "      fill: #1967D2;\n",
              "      height: 32px;\n",
              "      padding: 0 0 0 0;\n",
              "      width: 32px;\n",
              "    }\n",
              "\n",
              "    .colab-df-convert:hover {\n",
              "      background-color: #E2EBFA;\n",
              "      box-shadow: 0px 1px 2px rgba(60, 64, 67, 0.3), 0px 1px 3px 1px rgba(60, 64, 67, 0.15);\n",
              "      fill: #174EA6;\n",
              "    }\n",
              "\n",
              "    [theme=dark] .colab-df-convert {\n",
              "      background-color: #3B4455;\n",
              "      fill: #D2E3FC;\n",
              "    }\n",
              "\n",
              "    [theme=dark] .colab-df-convert:hover {\n",
              "      background-color: #434B5C;\n",
              "      box-shadow: 0px 1px 3px 1px rgba(0, 0, 0, 0.15);\n",
              "      filter: drop-shadow(0px 1px 2px rgba(0, 0, 0, 0.3));\n",
              "      fill: #FFFFFF;\n",
              "    }\n",
              "  </style>\n",
              "\n",
              "      <script>\n",
              "        const buttonEl =\n",
              "          document.querySelector('#df-0ef7b294-4c06-452f-9eaa-4e85f1ecf794 button.colab-df-convert');\n",
              "        buttonEl.style.display =\n",
              "          google.colab.kernel.accessAllowed ? 'block' : 'none';\n",
              "\n",
              "        async function convertToInteractive(key) {\n",
              "          const element = document.querySelector('#df-0ef7b294-4c06-452f-9eaa-4e85f1ecf794');\n",
              "          const dataTable =\n",
              "            await google.colab.kernel.invokeFunction('convertToInteractive',\n",
              "                                                     [key], {});\n",
              "          if (!dataTable) return;\n",
              "\n",
              "          const docLinkHtml = 'Like what you see? Visit the ' +\n",
              "            '<a target=\"_blank\" href=https://colab.research.google.com/notebooks/data_table.ipynb>data table notebook</a>'\n",
              "            + ' to learn more about interactive tables.';\n",
              "          element.innerHTML = '';\n",
              "          dataTable['output_type'] = 'display_data';\n",
              "          await google.colab.output.renderOutput(dataTable, element);\n",
              "          const docLink = document.createElement('div');\n",
              "          docLink.innerHTML = docLinkHtml;\n",
              "          element.appendChild(docLink);\n",
              "        }\n",
              "      </script>\n",
              "    </div>\n",
              "  </div>\n",
              "  "
            ]
          },
          "metadata": {},
          "execution_count": 216
        }
      ]
    },
    {
      "cell_type": "code",
      "source": [
        "#Element-wise division: df / x\n",
        "\n",
        "df.div(2)\n",
        "# df / 2"
      ],
      "metadata": {
        "colab": {
          "base_uri": "https://localhost:8080/",
          "height": 175
        },
        "id": "AtF_upSzbyVs",
        "outputId": "39e8e369-8ba1-4ffa-9358-e68c3f041a94"
      },
      "id": "AtF_upSzbyVs",
      "execution_count": 218,
      "outputs": [
        {
          "output_type": "execute_result",
          "data": {
            "text/plain": [
              "   col1  col2\n",
              "0   0.0   0.5\n",
              "1  -1.0  -0.5\n",
              "2   0.5   1.5\n",
              "3   0.5   0.5"
            ],
            "text/html": [
              "\n",
              "  <div id=\"df-0ba57d26-8c52-4f4b-be97-b0fb02768dfb\">\n",
              "    <div class=\"colab-df-container\">\n",
              "      <div>\n",
              "<style scoped>\n",
              "    .dataframe tbody tr th:only-of-type {\n",
              "        vertical-align: middle;\n",
              "    }\n",
              "\n",
              "    .dataframe tbody tr th {\n",
              "        vertical-align: top;\n",
              "    }\n",
              "\n",
              "    .dataframe thead th {\n",
              "        text-align: right;\n",
              "    }\n",
              "</style>\n",
              "<table border=\"1\" class=\"dataframe\">\n",
              "  <thead>\n",
              "    <tr style=\"text-align: right;\">\n",
              "      <th></th>\n",
              "      <th>col1</th>\n",
              "      <th>col2</th>\n",
              "    </tr>\n",
              "  </thead>\n",
              "  <tbody>\n",
              "    <tr>\n",
              "      <th>0</th>\n",
              "      <td>0.0</td>\n",
              "      <td>0.5</td>\n",
              "    </tr>\n",
              "    <tr>\n",
              "      <th>1</th>\n",
              "      <td>-1.0</td>\n",
              "      <td>-0.5</td>\n",
              "    </tr>\n",
              "    <tr>\n",
              "      <th>2</th>\n",
              "      <td>0.5</td>\n",
              "      <td>1.5</td>\n",
              "    </tr>\n",
              "    <tr>\n",
              "      <th>3</th>\n",
              "      <td>0.5</td>\n",
              "      <td>0.5</td>\n",
              "    </tr>\n",
              "  </tbody>\n",
              "</table>\n",
              "</div>\n",
              "      <button class=\"colab-df-convert\" onclick=\"convertToInteractive('df-0ba57d26-8c52-4f4b-be97-b0fb02768dfb')\"\n",
              "              title=\"Convert this dataframe to an interactive table.\"\n",
              "              style=\"display:none;\">\n",
              "        \n",
              "  <svg xmlns=\"http://www.w3.org/2000/svg\" height=\"24px\"viewBox=\"0 0 24 24\"\n",
              "       width=\"24px\">\n",
              "    <path d=\"M0 0h24v24H0V0z\" fill=\"none\"/>\n",
              "    <path d=\"M18.56 5.44l.94 2.06.94-2.06 2.06-.94-2.06-.94-.94-2.06-.94 2.06-2.06.94zm-11 1L8.5 8.5l.94-2.06 2.06-.94-2.06-.94L8.5 2.5l-.94 2.06-2.06.94zm10 10l.94 2.06.94-2.06 2.06-.94-2.06-.94-.94-2.06-.94 2.06-2.06.94z\"/><path d=\"M17.41 7.96l-1.37-1.37c-.4-.4-.92-.59-1.43-.59-.52 0-1.04.2-1.43.59L10.3 9.45l-7.72 7.72c-.78.78-.78 2.05 0 2.83L4 21.41c.39.39.9.59 1.41.59.51 0 1.02-.2 1.41-.59l7.78-7.78 2.81-2.81c.8-.78.8-2.07 0-2.86zM5.41 20L4 18.59l7.72-7.72 1.47 1.35L5.41 20z\"/>\n",
              "  </svg>\n",
              "      </button>\n",
              "      \n",
              "  <style>\n",
              "    .colab-df-container {\n",
              "      display:flex;\n",
              "      flex-wrap:wrap;\n",
              "      gap: 12px;\n",
              "    }\n",
              "\n",
              "    .colab-df-convert {\n",
              "      background-color: #E8F0FE;\n",
              "      border: none;\n",
              "      border-radius: 50%;\n",
              "      cursor: pointer;\n",
              "      display: none;\n",
              "      fill: #1967D2;\n",
              "      height: 32px;\n",
              "      padding: 0 0 0 0;\n",
              "      width: 32px;\n",
              "    }\n",
              "\n",
              "    .colab-df-convert:hover {\n",
              "      background-color: #E2EBFA;\n",
              "      box-shadow: 0px 1px 2px rgba(60, 64, 67, 0.3), 0px 1px 3px 1px rgba(60, 64, 67, 0.15);\n",
              "      fill: #174EA6;\n",
              "    }\n",
              "\n",
              "    [theme=dark] .colab-df-convert {\n",
              "      background-color: #3B4455;\n",
              "      fill: #D2E3FC;\n",
              "    }\n",
              "\n",
              "    [theme=dark] .colab-df-convert:hover {\n",
              "      background-color: #434B5C;\n",
              "      box-shadow: 0px 1px 3px 1px rgba(0, 0, 0, 0.15);\n",
              "      filter: drop-shadow(0px 1px 2px rgba(0, 0, 0, 0.3));\n",
              "      fill: #FFFFFF;\n",
              "    }\n",
              "  </style>\n",
              "\n",
              "      <script>\n",
              "        const buttonEl =\n",
              "          document.querySelector('#df-0ba57d26-8c52-4f4b-be97-b0fb02768dfb button.colab-df-convert');\n",
              "        buttonEl.style.display =\n",
              "          google.colab.kernel.accessAllowed ? 'block' : 'none';\n",
              "\n",
              "        async function convertToInteractive(key) {\n",
              "          const element = document.querySelector('#df-0ba57d26-8c52-4f4b-be97-b0fb02768dfb');\n",
              "          const dataTable =\n",
              "            await google.colab.kernel.invokeFunction('convertToInteractive',\n",
              "                                                     [key], {});\n",
              "          if (!dataTable) return;\n",
              "\n",
              "          const docLinkHtml = 'Like what you see? Visit the ' +\n",
              "            '<a target=\"_blank\" href=https://colab.research.google.com/notebooks/data_table.ipynb>data table notebook</a>'\n",
              "            + ' to learn more about interactive tables.';\n",
              "          element.innerHTML = '';\n",
              "          dataTable['output_type'] = 'display_data';\n",
              "          await google.colab.output.renderOutput(dataTable, element);\n",
              "          const docLink = document.createElement('div');\n",
              "          docLink.innerHTML = docLinkHtml;\n",
              "          element.appendChild(docLink);\n",
              "        }\n",
              "      </script>\n",
              "    </div>\n",
              "  </div>\n",
              "  "
            ]
          },
          "metadata": {},
          "execution_count": 218
        }
      ]
    },
    {
      "cell_type": "code",
      "source": [
        "#Element-wise division: x / df\n",
        "\n",
        "df.rdiv(2)\n",
        "# 2 / df"
      ],
      "metadata": {
        "colab": {
          "base_uri": "https://localhost:8080/",
          "height": 175
        },
        "id": "paZdrfNDdPpY",
        "outputId": "2a3311ca-9af8-4025-98ab-9e3ace357996"
      },
      "id": "paZdrfNDdPpY",
      "execution_count": 222,
      "outputs": [
        {
          "output_type": "execute_result",
          "data": {
            "text/plain": [
              "   col1      col2\n",
              "0   inf  2.000000\n",
              "1  -1.0 -2.000000\n",
              "2   2.0  0.666667\n",
              "3   2.0  2.000000"
            ],
            "text/html": [
              "\n",
              "  <div id=\"df-e12776a9-3cc2-432a-ade0-3bd32eaee59a\">\n",
              "    <div class=\"colab-df-container\">\n",
              "      <div>\n",
              "<style scoped>\n",
              "    .dataframe tbody tr th:only-of-type {\n",
              "        vertical-align: middle;\n",
              "    }\n",
              "\n",
              "    .dataframe tbody tr th {\n",
              "        vertical-align: top;\n",
              "    }\n",
              "\n",
              "    .dataframe thead th {\n",
              "        text-align: right;\n",
              "    }\n",
              "</style>\n",
              "<table border=\"1\" class=\"dataframe\">\n",
              "  <thead>\n",
              "    <tr style=\"text-align: right;\">\n",
              "      <th></th>\n",
              "      <th>col1</th>\n",
              "      <th>col2</th>\n",
              "    </tr>\n",
              "  </thead>\n",
              "  <tbody>\n",
              "    <tr>\n",
              "      <th>0</th>\n",
              "      <td>inf</td>\n",
              "      <td>2.000000</td>\n",
              "    </tr>\n",
              "    <tr>\n",
              "      <th>1</th>\n",
              "      <td>-1.0</td>\n",
              "      <td>-2.000000</td>\n",
              "    </tr>\n",
              "    <tr>\n",
              "      <th>2</th>\n",
              "      <td>2.0</td>\n",
              "      <td>0.666667</td>\n",
              "    </tr>\n",
              "    <tr>\n",
              "      <th>3</th>\n",
              "      <td>2.0</td>\n",
              "      <td>2.000000</td>\n",
              "    </tr>\n",
              "  </tbody>\n",
              "</table>\n",
              "</div>\n",
              "      <button class=\"colab-df-convert\" onclick=\"convertToInteractive('df-e12776a9-3cc2-432a-ade0-3bd32eaee59a')\"\n",
              "              title=\"Convert this dataframe to an interactive table.\"\n",
              "              style=\"display:none;\">\n",
              "        \n",
              "  <svg xmlns=\"http://www.w3.org/2000/svg\" height=\"24px\"viewBox=\"0 0 24 24\"\n",
              "       width=\"24px\">\n",
              "    <path d=\"M0 0h24v24H0V0z\" fill=\"none\"/>\n",
              "    <path d=\"M18.56 5.44l.94 2.06.94-2.06 2.06-.94-2.06-.94-.94-2.06-.94 2.06-2.06.94zm-11 1L8.5 8.5l.94-2.06 2.06-.94-2.06-.94L8.5 2.5l-.94 2.06-2.06.94zm10 10l.94 2.06.94-2.06 2.06-.94-2.06-.94-.94-2.06-.94 2.06-2.06.94z\"/><path d=\"M17.41 7.96l-1.37-1.37c-.4-.4-.92-.59-1.43-.59-.52 0-1.04.2-1.43.59L10.3 9.45l-7.72 7.72c-.78.78-.78 2.05 0 2.83L4 21.41c.39.39.9.59 1.41.59.51 0 1.02-.2 1.41-.59l7.78-7.78 2.81-2.81c.8-.78.8-2.07 0-2.86zM5.41 20L4 18.59l7.72-7.72 1.47 1.35L5.41 20z\"/>\n",
              "  </svg>\n",
              "      </button>\n",
              "      \n",
              "  <style>\n",
              "    .colab-df-container {\n",
              "      display:flex;\n",
              "      flex-wrap:wrap;\n",
              "      gap: 12px;\n",
              "    }\n",
              "\n",
              "    .colab-df-convert {\n",
              "      background-color: #E8F0FE;\n",
              "      border: none;\n",
              "      border-radius: 50%;\n",
              "      cursor: pointer;\n",
              "      display: none;\n",
              "      fill: #1967D2;\n",
              "      height: 32px;\n",
              "      padding: 0 0 0 0;\n",
              "      width: 32px;\n",
              "    }\n",
              "\n",
              "    .colab-df-convert:hover {\n",
              "      background-color: #E2EBFA;\n",
              "      box-shadow: 0px 1px 2px rgba(60, 64, 67, 0.3), 0px 1px 3px 1px rgba(60, 64, 67, 0.15);\n",
              "      fill: #174EA6;\n",
              "    }\n",
              "\n",
              "    [theme=dark] .colab-df-convert {\n",
              "      background-color: #3B4455;\n",
              "      fill: #D2E3FC;\n",
              "    }\n",
              "\n",
              "    [theme=dark] .colab-df-convert:hover {\n",
              "      background-color: #434B5C;\n",
              "      box-shadow: 0px 1px 3px 1px rgba(0, 0, 0, 0.15);\n",
              "      filter: drop-shadow(0px 1px 2px rgba(0, 0, 0, 0.3));\n",
              "      fill: #FFFFFF;\n",
              "    }\n",
              "  </style>\n",
              "\n",
              "      <script>\n",
              "        const buttonEl =\n",
              "          document.querySelector('#df-e12776a9-3cc2-432a-ade0-3bd32eaee59a button.colab-df-convert');\n",
              "        buttonEl.style.display =\n",
              "          google.colab.kernel.accessAllowed ? 'block' : 'none';\n",
              "\n",
              "        async function convertToInteractive(key) {\n",
              "          const element = document.querySelector('#df-e12776a9-3cc2-432a-ade0-3bd32eaee59a');\n",
              "          const dataTable =\n",
              "            await google.colab.kernel.invokeFunction('convertToInteractive',\n",
              "                                                     [key], {});\n",
              "          if (!dataTable) return;\n",
              "\n",
              "          const docLinkHtml = 'Like what you see? Visit the ' +\n",
              "            '<a target=\"_blank\" href=https://colab.research.google.com/notebooks/data_table.ipynb>data table notebook</a>'\n",
              "            + ' to learn more about interactive tables.';\n",
              "          element.innerHTML = '';\n",
              "          dataTable['output_type'] = 'display_data';\n",
              "          await google.colab.output.renderOutput(dataTable, element);\n",
              "          const docLink = document.createElement('div');\n",
              "          docLink.innerHTML = docLinkHtml;\n",
              "          element.appendChild(docLink);\n",
              "        }\n",
              "      </script>\n",
              "    </div>\n",
              "  </div>\n",
              "  "
            ]
          },
          "metadata": {},
          "execution_count": 222
        }
      ]
    }
  ],
  "metadata": {
    "kernelspec": {
      "display_name": "Python 3 (ipykernel)",
      "language": "python",
      "name": "python3"
    },
    "language_info": {
      "codemirror_mode": {
        "name": "ipython",
        "version": 3
      },
      "file_extension": ".py",
      "mimetype": "text/x-python",
      "name": "python",
      "nbconvert_exporter": "python",
      "pygments_lexer": "ipython3",
      "version": "3.9.12"
    },
    "colab": {
      "provenance": []
    }
  },
  "nbformat": 4,
  "nbformat_minor": 5
}