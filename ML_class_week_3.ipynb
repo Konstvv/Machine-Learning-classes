{
  "cells": [
    {
      "cell_type": "markdown",
      "id": "963e3321",
      "metadata": {
        "id": "963e3321"
      },
      "source": [
        "# Week 3\n",
        "### Keeping the code and text tidy: Coding conventions, Git and TeX."
      ]
    },
    {
      "cell_type": "markdown",
      "source": [
        "### Python code conventions\n",
        "\n",
        "Code readability is very important for "
      ],
      "metadata": {
        "id": "w6xrPy_kc5xb"
      },
      "id": "w6xrPy_kc5xb"
    },
    {
      "cell_type": "code",
      "source": [],
      "metadata": {
        "id": "ynTDL0SDoNhX"
      },
      "id": "ynTDL0SDoNhX",
      "execution_count": null,
      "outputs": []
    }
  ],
  "metadata": {
    "kernelspec": {
      "display_name": "Python 3 (ipykernel)",
      "language": "python",
      "name": "python3"
    },
    "language_info": {
      "codemirror_mode": {
        "name": "ipython",
        "version": 3
      },
      "file_extension": ".py",
      "mimetype": "text/x-python",
      "name": "python",
      "nbconvert_exporter": "python",
      "pygments_lexer": "ipython3",
      "version": "3.9.12"
    },
    "colab": {
      "provenance": []
    }
  },
  "nbformat": 4,
  "nbformat_minor": 5
}