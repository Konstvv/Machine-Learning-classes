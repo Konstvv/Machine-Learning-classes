{
  "cells": [
    {
      "cell_type": "markdown",
      "id": "963e3321",
      "metadata": {
        "id": "963e3321"
      },
      "source": [
        "# Week 3\n",
        "### Keeping the code and text tidy: Coding conventions, Git and TeX."
      ]
    },
    {
      "cell_type": "markdown",
      "source": [
        "### Python code conventions\n",
        "\n",
        "Code readability is very important for any type of project. When more than one person works and interacts with the code, it has to be clean enough to be understood by anyone. This is why there exist special conventions for any programming language.\n",
        "\n",
        "PEP 8, sometimes spelled PEP8 or PEP-8, is a document that provides guidelines and best practices on how to write Python code. It was written in 2001 by Guido van Rossum, Barry Warsaw, and Nick Coghlan. The primary focus of PEP 8 is to improve the readability and consistency of Python code.\n",
        "\n",
        "Following PEP 8 is particularly important if you’re looking for a development job. Writing clear, readable code shows professionalism. It will tell an employer that you understand how to structure your code well.\n",
        "\n",
        "You can find the whole document here:\n",
        "\n",
        "https://peps.python.org/pep-0008/\n",
        "\n",
        "Here we will discuss the main tips to keep you code tidy and readable."
      ],
      "metadata": {
        "id": "w6xrPy_kc5xb"
      },
      "id": "w6xrPy_kc5xb"
    },
    {
      "cell_type": "markdown",
      "source": [
        "Here is the main outline of the naming convention for different objects:\n",
        "\n",
        "\n",
        "| Type     \t| Naming Convention                                                                                                               \t| Examples                \t|\n",
        "|----------\t|---------------------------------------------------------------------------------------------------------------------------------\t|-------------------------\t|\n",
        "| Function \t| Use a lowercase word or words.  Separate words by underscores to improve readability.                                           \t| function, my_function   \t|\n",
        "| Variable \t| Use a lowercase single letter, word, or words.  Separate words with underscores to improve readability.                         \t| x, var, my_variable     \t|\n",
        "| Class    \t| Start each word with a capital letter. Do not separate words with underscores.  This style is called camel case or pascal case. \t| Model, MyClass          \t|\n",
        "| Method   \t| Use a lowercase word or words.  Separate words with underscores to improve readability.                                         \t| class_method, method    \t|\n",
        "| Module   \t| Use a short, lowercase word or words.  Separate words with underscores to improve readability.                                  \t| module.py, my_module.py \t|\n",
        "| Constant \t| Use an uppercase single letter, word, or words.  Separate words with underscores to improve readability.                        \t| CONSTANT, LONG_CONSTANT \t|\n",
        "| Package  \t| Use a short, lowercase word or words.  Do not separate words with underscores.                                                  \t| package, mypackage      \t|"
      ],
      "metadata": {
        "id": "vFc3gLS7gsnX"
      },
      "id": "vFc3gLS7gsnX"
    },
    {
      "cell_type": "code",
      "source": [
        "# Not recommended\n",
        "x = 'John Smith'\n",
        "y, z = x.split()\n",
        "print(z, y, sep=', ')"
      ],
      "metadata": {
        "colab": {
          "base_uri": "https://localhost:8080/"
        },
        "id": "3zHhnoTyxKhY",
        "outputId": "7eaca0e0-a5e2-4c36-9279-cf0618667675"
      },
      "id": "3zHhnoTyxKhY",
      "execution_count": 1,
      "outputs": [
        {
          "output_type": "stream",
          "name": "stdout",
          "text": [
            "Smith, John\n"
          ]
        }
      ]
    },
    {
      "cell_type": "code",
      "source": [
        "# Recommended\n",
        "name = 'John Smith'\n",
        "first_name, last_name = name.split()\n",
        "print(last_name, first_name, sep=', ')"
      ],
      "metadata": {
        "colab": {
          "base_uri": "https://localhost:8080/"
        },
        "id": "bQNN76RaxN3Z",
        "outputId": "eabbb493-a0ed-444d-a325-ac5586bf5945"
      },
      "id": "bQNN76RaxN3Z",
      "execution_count": 2,
      "outputs": [
        {
          "output_type": "stream",
          "name": "stdout",
          "text": [
            "Smith, John\n"
          ]
        }
      ]
    },
    {
      "cell_type": "code",
      "source": [
        "# Not recommended\n",
        "def db(x):\n",
        "    return x * 2"
      ],
      "metadata": {
        "id": "X-VOAtnFxUQL"
      },
      "id": "X-VOAtnFxUQL",
      "execution_count": 3,
      "outputs": []
    },
    {
      "cell_type": "code",
      "source": [
        "# Recommended\n",
        "def multiply_by_two(x):\n",
        "    return x * 2"
      ],
      "metadata": {
        "id": "bVH_mUWoxV7k"
      },
      "id": "bVH_mUWoxV7k",
      "execution_count": 4,
      "outputs": []
    },
    {
      "cell_type": "markdown",
      "source": [
        "#### Blank lines betwwen functions/classes"
      ],
      "metadata": {
        "id": "G2cgvEgox0HO"
      },
      "id": "G2cgvEgox0HO"
    },
    {
      "cell_type": "code",
      "source": [
        "class MyFirstClass:\n",
        "    pass\n",
        "\n",
        "\n",
        "class MySecondClass:\n",
        "    pass\n",
        "\n",
        "\n",
        "def top_level_function():\n",
        "    return None"
      ],
      "metadata": {
        "id": "_5MG6-_gx6tD"
      },
      "id": "_5MG6-_gx6tD",
      "execution_count": 5,
      "outputs": []
    },
    {
      "cell_type": "code",
      "source": [
        "class MyClass:\n",
        "    def first_method(self):\n",
        "        return None\n",
        "\n",
        "    def second_method(self):\n",
        "        return None"
      ],
      "metadata": {
        "id": "y3hbKVl0x9sU"
      },
      "id": "y3hbKVl0x9sU",
      "execution_count": 6,
      "outputs": []
    },
    {
      "cell_type": "code",
      "source": [
        "#Use space inside functions to show different logical steps:\n",
        "def calculate_variance(number_list):\n",
        "    sum_list = 0\n",
        "    for number in number_list:\n",
        "        sum_list = sum_list + number\n",
        "    mean = sum_list / len(number_list)\n",
        "\n",
        "    sum_squares = 0\n",
        "    for number in number_list:\n",
        "        sum_squares = sum_squares + number**2\n",
        "    mean_squares = sum_squares / len(number_list)\n",
        "\n",
        "    return mean_squares - mean**2"
      ],
      "metadata": {
        "id": "BC56M71dyBtA"
      },
      "id": "BC56M71dyBtA",
      "execution_count": 7,
      "outputs": []
    },
    {
      "cell_type": "markdown",
      "source": [
        "#### Indentation\n",
        "\n",
        "Indentation, or leading whitespace, is extremely important in Python. The indentation level of lines of code in Python determines how statements are grouped together."
      ],
      "metadata": {
        "id": "d5mV_PEayKjQ"
      },
      "id": "d5mV_PEayKjQ"
    },
    {
      "cell_type": "code",
      "source": [
        "x = 3\n",
        "while x < 6:\n",
        "    x += 1\n",
        "    print('x is 5: ', x == 5)"
      ],
      "metadata": {
        "colab": {
          "base_uri": "https://localhost:8080/"
        },
        "id": "i7drizGvyMJ8",
        "outputId": "d91c6420-3a23-4f34-eb96-6d923cb169b9"
      },
      "id": "i7drizGvyMJ8",
      "execution_count": 11,
      "outputs": [
        {
          "output_type": "stream",
          "name": "stdout",
          "text": [
            "x is 5:  False\n",
            "x is 5:  True\n",
            "x is 5:  False\n"
          ]
        }
      ]
    },
    {
      "cell_type": "code",
      "source": [
        "x = 3\n",
        "while x < 6:\n",
        "    x += 1\n",
        "print('x is 5: ', x == 5)"
      ],
      "metadata": {
        "colab": {
          "base_uri": "https://localhost:8080/"
        },
        "id": "7xJ1DcdTyV2s",
        "outputId": "a7bba509-f4f5-4ea4-b7a3-8e4f986a881e"
      },
      "id": "7xJ1DcdTyV2s",
      "execution_count": 12,
      "outputs": [
        {
          "output_type": "stream",
          "name": "stdout",
          "text": [
            "x is 5:  False\n"
          ]
        }
      ]
    },
    {
      "cell_type": "markdown",
      "source": [
        "The key indentation rules laid out by PEP 8 are the following:\n",
        "\n",
        "*  Use 4 consecutive spaces to indicate indentation.\n",
        "*  Prefer spaces over tabs. \n",
        "  *  It is better to use spaces instead of tabs when indenting code. You can adjust the settings in your text editor to output 4 spaces instead of a tab character, when you press the Tab key.\n"
      ],
      "metadata": {
        "id": "yOYyP2RAzUTt"
      },
      "id": "yOYyP2RAzUTt"
    },
    {
      "cell_type": "markdown",
      "source": [
        "#### Comments\n",
        "\n",
        "Here are some key points to remember when adding simple comments to your code:\n",
        "\n",
        "*  Limit the line length of comments and docstrings to 72 characters.\n",
        "*  Use complete sentences, starting with a capital letter.\n",
        "*  Make sure to update comments if you change your code.\n",
        "\n",
        "#### Block comments\n",
        "\n",
        "PEP 8 provides the following rules for writing block comments:\n",
        "\n",
        "*  Indent block comments to the same level as the code they describe.\n",
        "*  Start each line with a # followed by a single space.\n",
        "*  Separate paragraphs by a line containing a single #."
      ],
      "metadata": {
        "id": "nxx6o_OE0lc_"
      },
      "id": "nxx6o_OE0lc_"
    },
    {
      "cell_type": "code",
      "source": [
        "for i in range(0, 10):\n",
        "    # Loop over i ten times and print out the value of i, followed by a\n",
        "    # new line character\n",
        "    print(i, '\\n')"
      ],
      "metadata": {
        "colab": {
          "base_uri": "https://localhost:8080/"
        },
        "id": "eJqGAKi102Fk",
        "outputId": "3e7fbf29-e1dc-4d17-8151-18141c1977e9"
      },
      "id": "eJqGAKi102Fk",
      "execution_count": 13,
      "outputs": [
        {
          "output_type": "stream",
          "name": "stdout",
          "text": [
            "0 \n",
            "\n",
            "1 \n",
            "\n",
            "2 \n",
            "\n",
            "3 \n",
            "\n",
            "4 \n",
            "\n",
            "5 \n",
            "\n",
            "6 \n",
            "\n",
            "7 \n",
            "\n",
            "8 \n",
            "\n",
            "9 \n",
            "\n"
          ]
        }
      ]
    },
    {
      "cell_type": "markdown",
      "source": [
        "#### Documentation strings\n",
        "\n",
        "Documentation strings, or docstrings, are strings enclosed in double (\") or single (') quotation marks that appear on the first line of any function, class, method, or module. You can use them to explain and document a specific block of code."
      ],
      "metadata": {
        "id": "kqfHNc7L15QR"
      },
      "id": "kqfHNc7L15QR"
    },
    {
      "cell_type": "code",
      "source": [
        "def quadratic(a, b, c, x):\n",
        "    \"\"\"Solve quadratic equation via the quadratic formula.\n",
        "\n",
        "    A quadratic equation has the following form:\n",
        "    ax**2 + bx + c = 0\n",
        "\n",
        "    There always two solutions to a quadratic equation: x_1 & x_2.\n",
        "    \"\"\"\n",
        "    x_1 = (- b+(b**2-4*a*c)**(1/2)) / (2*a)\n",
        "    x_2 = (- b-(b**2-4*a*c)**(1/2)) / (2*a)\n",
        "\n",
        "    return x_1, x_2"
      ],
      "metadata": {
        "id": "N8-PnQtR4dhD"
      },
      "id": "N8-PnQtR4dhD",
      "execution_count": 14,
      "outputs": []
    },
    {
      "cell_type": "markdown",
      "source": [
        "#### Whitespace in Expressions and Statements\n",
        "\n",
        "Surround the following binary operators with a single space on either side:\n",
        "\n",
        "*  Assignment operators (=, +=, -=, and so forth)\n",
        "*  Comparisons (==, !=, >, <. >=, <=) and (is, is not, in, not in)\n",
        "*  Booleans (and, not, or)\n",
        "\n"
      ],
      "metadata": {
        "id": "aSV3FPuY4kzq"
      },
      "id": "aSV3FPuY4kzq"
    },
    {
      "cell_type": "code",
      "source": [
        "# Exception: When = is used to assign a default value to a function argument, do not surround it with spaces.\n",
        "\n",
        "# Recommended\n",
        "def function(default_parameter=5):\n",
        "    pass\n",
        "\n",
        "\n",
        "# Not recommended\n",
        "def function(default_parameter = 5):\n",
        "    pass"
      ],
      "metadata": {
        "id": "PtVDciZh4u8X"
      },
      "id": "PtVDciZh4u8X",
      "execution_count": 17,
      "outputs": []
    },
    {
      "cell_type": "code",
      "source": [
        "# Many operators\n",
        "\n",
        "# Recommended\n",
        "y = x**2 + 5\n",
        "z = (x+y) * (x-y)\n",
        "\n",
        "# Not Recommended\n",
        "y = x ** 2 + 5\n",
        "z = (x + y) * (x - y)"
      ],
      "metadata": {
        "id": "Ndswiwto5BmB"
      },
      "id": "Ndswiwto5BmB",
      "execution_count": 18,
      "outputs": []
    },
    {
      "cell_type": "code",
      "source": [
        "# Multiple conditions\n",
        "# Not recommended\n",
        "if x > 5 and x % 2 == 0:\n",
        "    print('x is larger than 5 and divisible by 2!')"
      ],
      "metadata": {
        "id": "-eXanKhy5GqA"
      },
      "id": "-eXanKhy5GqA",
      "execution_count": null,
      "outputs": []
    },
    {
      "cell_type": "markdown",
      "source": [
        "#### Boolean comparison"
      ],
      "metadata": {
        "id": "ohEbGcnW5RSo"
      },
      "id": "ohEbGcnW5RSo"
    },
    {
      "cell_type": "code",
      "source": [
        "# Not recommended\n",
        "my_bool = 6 > 5\n",
        "if my_bool == True:\n",
        "    print('6 is bigger than 5')"
      ],
      "metadata": {
        "colab": {
          "base_uri": "https://localhost:8080/"
        },
        "id": "WWbAOfVB5an5",
        "outputId": "5b7bda49-051f-4e4f-b9a2-0fb036c61c77"
      },
      "id": "WWbAOfVB5an5",
      "execution_count": 20,
      "outputs": [
        {
          "output_type": "stream",
          "name": "stdout",
          "text": [
            "6 is bigger than 5\n"
          ]
        }
      ]
    },
    {
      "cell_type": "code",
      "source": [
        "# Recommended\n",
        "if my_bool:\n",
        "    print('6 is bigger than 5')"
      ],
      "metadata": {
        "colab": {
          "base_uri": "https://localhost:8080/"
        },
        "id": "zz_0p9Fk5h4_",
        "outputId": "70fd4c97-1a5b-44b4-b4be-6e5630c6b417"
      },
      "id": "zz_0p9Fk5h4_",
      "execution_count": 21,
      "outputs": [
        {
          "output_type": "stream",
          "name": "stdout",
          "text": [
            "6 is bigger than 5\n"
          ]
        }
      ]
    },
    {
      "cell_type": "code",
      "source": [
        "# Don’t use if x: when you mean if x is not None:\n",
        "arg = False\n",
        "\n",
        "# Not Recommended\n",
        "if arg:\n",
        "    print(arg)\n",
        "\n",
        "# Recommended\n",
        "if arg is not None:\n",
        "    print('arg is not None')"
      ],
      "metadata": {
        "colab": {
          "base_uri": "https://localhost:8080/"
        },
        "id": "dE3W-JzF5xQI",
        "outputId": "c53cff66-945a-41e5-da71-b520773bc71e"
      },
      "id": "dE3W-JzF5xQI",
      "execution_count": 24,
      "outputs": [
        {
          "output_type": "stream",
          "name": "stdout",
          "text": [
            "arg is not None\n"
          ]
        }
      ]
    },
    {
      "cell_type": "markdown",
      "source": [
        "#### When to ignore PIP8\n",
        "\n",
        "Some guidelines in PEP 8 are inconvenient in the following instances:\n",
        "\n",
        "*  If complying with PEP 8 would break compatibility with existing software\n",
        "*  If code surrounding what you’re working on is inconsistent with PEP 8\n",
        "*  If code needs to remain compatible with older versions of Python"
      ],
      "metadata": {
        "id": "SlivzApb6Ojo"
      },
      "id": "SlivzApb6Ojo"
    },
    {
      "cell_type": "markdown",
      "source": [
        "## Git\n",
        "\n",
        "Git is a version control system which lets you track changes you make to your files over time. With Git, you can revert to various states of your files (like a time traveling machine). You can also make a copy of your file, make changes to that copy, and then merge these changes to the original copy.\n",
        "\n",
        "For example, you could be working on a website's landing page and discover that you do not like the navigation bar. But at the same time, you might not want to start altering its components because it might get worse.\n",
        "\n",
        "With Git, you can create an identical copy of that file and play around with the navigation bar. Then, when you are satisfied with your changes, you can merge the copy to the original file.\n",
        "\n",
        "You are not limited to using Git just for source code files – you can also use it to keep track of text files or even images. This means that Git is not just for developers – anyone can find it helpful."
      ],
      "metadata": {
        "id": "EA4D512FfQwo"
      },
      "id": "EA4D512FfQwo"
    },
    {
      "cell_type": "markdown",
      "source": [
        "## TeX"
      ],
      "metadata": {
        "id": "_stxnag6fTQz"
      },
      "id": "_stxnag6fTQz"
    }
  ],
  "metadata": {
    "kernelspec": {
      "display_name": "Python 3 (ipykernel)",
      "language": "python",
      "name": "python3"
    },
    "language_info": {
      "codemirror_mode": {
        "name": "ipython",
        "version": 3
      },
      "file_extension": ".py",
      "mimetype": "text/x-python",
      "name": "python",
      "nbconvert_exporter": "python",
      "pygments_lexer": "ipython3",
      "version": "3.9.12"
    },
    "colab": {
      "provenance": [],
      "toc_visible": true
    }
  },
  "nbformat": 4,
  "nbformat_minor": 5
}